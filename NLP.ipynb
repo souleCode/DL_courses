{
 "cells": [
  {
   "cell_type": "code",
   "execution_count": 94,
   "id": "8f005a31",
   "metadata": {},
   "outputs": [],
   "source": [
    "import tensorflow as tf\n"
   ]
  },
  {
   "cell_type": "code",
   "execution_count": null,
   "id": "a36bfafb",
   "metadata": {},
   "outputs": [],
   "source": []
  },
  {
   "cell_type": "code",
   "execution_count": 9,
   "id": "9060c172",
   "metadata": {},
   "outputs": [],
   "source": []
  },
  {
   "cell_type": "code",
   "execution_count": 12,
   "id": "a81616d4",
   "metadata": {},
   "outputs": [
    {
     "name": "stderr",
     "output_type": "stream",
     "text": [
      "WARNING: Ignoring invalid distribution -rotobuf (c:\\users\\dell\\appdata\\roaming\\python\\python310\\site-packages)\n",
      "WARNING: Ignoring invalid distribution -rotobuf (c:\\users\\dell\\appdata\\roaming\\python\\python310\\site-packages)\n",
      "WARNING: Ignoring invalid distribution -rotobuf (c:\\users\\dell\\appdata\\roaming\\python\\python310\\site-packages)\n",
      "WARNING: Ignoring invalid distribution -rotobuf (c:\\users\\dell\\appdata\\roaming\\python\\python310\\site-packages)\n",
      "WARNING: Ignoring invalid distribution -rotobuf (c:\\users\\dell\\appdata\\roaming\\python\\python310\\site-packages)\n",
      "WARNING: Ignoring invalid distribution -rotobuf (c:\\users\\dell\\appdata\\roaming\\python\\python310\\site-packages)\n"
     ]
    },
    {
     "name": "stdout",
     "output_type": "stream",
     "text": [
      "Requirement already satisfied: tensorflow-datasets in c:\\users\\dell\\appdata\\roaming\\python\\python310\\site-packages (4.9.2)\n",
      "Requirement already satisfied: etils[enp,epath]>=0.9.0 in c:\\users\\dell\\appdata\\roaming\\python\\python310\\site-packages (from tensorflow-datasets) (1.4.1)\n",
      "Requirement already satisfied: psutil in c:\\users\\dell\\appdata\\roaming\\python\\python310\\site-packages (from tensorflow-datasets) (5.9.4)\n",
      "Requirement already satisfied: termcolor in c:\\users\\dell\\appdata\\roaming\\python\\python310\\site-packages (from tensorflow-datasets) (2.3.0)\n",
      "Requirement already satisfied: promise in c:\\users\\dell\\appdata\\roaming\\python\\python310\\site-packages (from tensorflow-datasets) (2.3)\n",
      "Requirement already satisfied: requests>=2.19.0 in c:\\users\\dell\\appdata\\roaming\\python\\python310\\site-packages (from tensorflow-datasets) (2.28.2)\n",
      "Requirement already satisfied: toml in c:\\users\\dell\\appdata\\roaming\\python\\python310\\site-packages (from tensorflow-datasets) (0.10.2)\n",
      "Requirement already satisfied: numpy in c:\\users\\dell\\appdata\\roaming\\python\\python310\\site-packages (from tensorflow-datasets) (1.24.2)\n",
      "Requirement already satisfied: tqdm in c:\\users\\dell\\anaconda3\\lib\\site-packages (from tensorflow-datasets) (4.64.1)\n",
      "Requirement already satisfied: tensorflow-metadata in c:\\users\\dell\\appdata\\roaming\\python\\python310\\site-packages (from tensorflow-datasets) (1.14.0)\n",
      "Requirement already satisfied: click in c:\\users\\dell\\appdata\\roaming\\python\\python310\\site-packages (from tensorflow-datasets) (8.1.3)\n",
      "Requirement already satisfied: dm-tree in c:\\users\\dell\\anaconda3\\lib\\site-packages (from tensorflow-datasets) (0.1.8)\n",
      "Requirement already satisfied: protobuf>=3.20 in c:\\users\\dell\\appdata\\roaming\\python\\python310\\site-packages (from tensorflow-datasets) (3.20.3)\n",
      "Requirement already satisfied: wrapt in c:\\users\\dell\\appdata\\roaming\\python\\python310\\site-packages (from tensorflow-datasets) (1.15.0)\n",
      "Requirement already satisfied: absl-py in c:\\users\\dell\\appdata\\roaming\\python\\python310\\site-packages (from tensorflow-datasets) (1.4.0)\n",
      "Requirement already satisfied: array-record in c:\\users\\dell\\appdata\\roaming\\python\\python310\\site-packages (from tensorflow-datasets) (0.4.1)\n",
      "Requirement already satisfied: zipp in c:\\users\\dell\\appdata\\roaming\\python\\python310\\site-packages (from etils[enp,epath]>=0.9.0->tensorflow-datasets) (3.15.0)\n",
      "Requirement already satisfied: importlib_resources in c:\\users\\dell\\appdata\\roaming\\python\\python310\\site-packages (from etils[enp,epath]>=0.9.0->tensorflow-datasets) (6.0.1)\n",
      "Requirement already satisfied: typing_extensions in c:\\users\\dell\\appdata\\roaming\\python\\python310\\site-packages (from etils[enp,epath]>=0.9.0->tensorflow-datasets) (4.5.0)\n",
      "Requirement already satisfied: urllib3<1.27,>=1.21.1 in c:\\users\\dell\\appdata\\roaming\\python\\python310\\site-packages (from requests>=2.19.0->tensorflow-datasets) (1.26.14)\n",
      "Requirement already satisfied: charset-normalizer<4,>=2 in c:\\users\\dell\\appdata\\roaming\\python\\python310\\site-packages (from requests>=2.19.0->tensorflow-datasets) (3.0.1)\n",
      "Requirement already satisfied: certifi>=2017.4.17 in c:\\users\\dell\\appdata\\roaming\\python\\python310\\site-packages (from requests>=2.19.0->tensorflow-datasets) (2022.12.7)\n",
      "Requirement already satisfied: idna<4,>=2.5 in c:\\users\\dell\\appdata\\roaming\\python\\python310\\site-packages (from requests>=2.19.0->tensorflow-datasets) (3.4)\n",
      "Requirement already satisfied: colorama in c:\\users\\dell\\appdata\\roaming\\python\\python310\\site-packages (from click->tensorflow-datasets) (0.4.6)\n",
      "Requirement already satisfied: six in c:\\users\\dell\\appdata\\roaming\\python\\python310\\site-packages (from promise->tensorflow-datasets) (1.16.0)\n",
      "Requirement already satisfied: googleapis-common-protos<2,>=1.52.0 in c:\\users\\dell\\appdata\\roaming\\python\\python310\\site-packages (from tensorflow-metadata->tensorflow-datasets) (1.60.0)\n"
     ]
    }
   ],
   "source": [
    "!pip install tensorflow-datasets --user\n",
    "\n"
   ]
  },
  {
   "cell_type": "code",
   "execution_count": 13,
   "id": "1465efc3",
   "metadata": {},
   "outputs": [],
   "source": [
    "import tensorflow_datasets as tfds"
   ]
  },
  {
   "cell_type": "code",
   "execution_count": 14,
   "id": "452455b6",
   "metadata": {},
   "outputs": [],
   "source": [
    "imdb_sentences =[]\n",
    "imdb_labels=[]"
   ]
  },
  {
   "cell_type": "code",
   "execution_count": 15,
   "id": "a73c4fea",
   "metadata": {},
   "outputs": [
    {
     "name": "stdout",
     "output_type": "stream",
     "text": [
      "\u001b[1mDownloading and preparing dataset Unknown size (download: Unknown size, generated: Unknown size, total: Unknown size) to C:\\Users\\DELL\\tensorflow_datasets\\imdb_reviews\\plain_text\\1.0.0...\u001b[0m\n"
     ]
    },
    {
     "data": {
      "application/vnd.jupyter.widget-view+json": {
       "model_id": "e9b5ba4fc2154984ab47dbc279b9b18b",
       "version_major": 2,
       "version_minor": 0
      },
      "text/plain": [
       "Dl Completed...: 0 url [00:00, ? url/s]"
      ]
     },
     "metadata": {},
     "output_type": "display_data"
    },
    {
     "data": {
      "application/vnd.jupyter.widget-view+json": {
       "model_id": "8a822e53d9614f36a62d011c247ae71e",
       "version_major": 2,
       "version_minor": 0
      },
      "text/plain": [
       "Dl Size...: 0 MiB [00:00, ? MiB/s]"
      ]
     },
     "metadata": {},
     "output_type": "display_data"
    },
    {
     "data": {
      "application/vnd.jupyter.widget-view+json": {
       "model_id": "",
       "version_major": 2,
       "version_minor": 0
      },
      "text/plain": [
       "Generating splits...:   0%|          | 0/3 [00:00<?, ? splits/s]"
      ]
     },
     "metadata": {},
     "output_type": "display_data"
    },
    {
     "data": {
      "application/vnd.jupyter.widget-view+json": {
       "model_id": "",
       "version_major": 2,
       "version_minor": 0
      },
      "text/plain": [
       "Generating train examples...: 0 examples [00:00, ? examples/s]"
      ]
     },
     "metadata": {},
     "output_type": "display_data"
    },
    {
     "data": {
      "application/vnd.jupyter.widget-view+json": {
       "model_id": "",
       "version_major": 2,
       "version_minor": 0
      },
      "text/plain": [
       "Shuffling C:\\Users\\DELL\\tensorflow_datasets\\imdb_reviews\\plain_text\\1.0.0.incompleteSHMT5S\\imdb_reviews-train.…"
      ]
     },
     "metadata": {},
     "output_type": "display_data"
    },
    {
     "data": {
      "application/vnd.jupyter.widget-view+json": {
       "model_id": "",
       "version_major": 2,
       "version_minor": 0
      },
      "text/plain": [
       "Generating test examples...: 0 examples [00:00, ? examples/s]"
      ]
     },
     "metadata": {},
     "output_type": "display_data"
    },
    {
     "data": {
      "application/vnd.jupyter.widget-view+json": {
       "model_id": "",
       "version_major": 2,
       "version_minor": 0
      },
      "text/plain": [
       "Shuffling C:\\Users\\DELL\\tensorflow_datasets\\imdb_reviews\\plain_text\\1.0.0.incompleteSHMT5S\\imdb_reviews-test.t…"
      ]
     },
     "metadata": {},
     "output_type": "display_data"
    },
    {
     "data": {
      "application/vnd.jupyter.widget-view+json": {
       "model_id": "",
       "version_major": 2,
       "version_minor": 0
      },
      "text/plain": [
       "Generating unsupervised examples...: 0 examples [00:00, ? examples/s]"
      ]
     },
     "metadata": {},
     "output_type": "display_data"
    },
    {
     "data": {
      "application/vnd.jupyter.widget-view+json": {
       "model_id": "",
       "version_major": 2,
       "version_minor": 0
      },
      "text/plain": [
       "Shuffling C:\\Users\\DELL\\tensorflow_datasets\\imdb_reviews\\plain_text\\1.0.0.incompleteSHMT5S\\imdb_reviews-unsupe…"
      ]
     },
     "metadata": {},
     "output_type": "display_data"
    },
    {
     "name": "stdout",
     "output_type": "stream",
     "text": [
      "\u001b[1mDataset imdb_reviews downloaded and prepared to C:\\Users\\DELL\\tensorflow_datasets\\imdb_reviews\\plain_text\\1.0.0. Subsequent calls will reuse this data.\u001b[0m\n"
     ]
    }
   ],
   "source": [
    "train_data = tfds.as_numpy(tfds.load('imdb_reviews',split='train'))"
   ]
  },
  {
   "cell_type": "code",
   "execution_count": 16,
   "id": "53477c6d",
   "metadata": {},
   "outputs": [
    {
     "data": {
      "text/plain": [
       "<tensorflow_datasets.core.dataset_utils._IterableDataset at 0x1b0fba0cca0>"
      ]
     },
     "execution_count": 16,
     "metadata": {},
     "output_type": "execute_result"
    }
   ],
   "source": [
    "train_data"
   ]
  },
  {
   "cell_type": "code",
   "execution_count": null,
   "id": "145ae365",
   "metadata": {},
   "outputs": [],
   "source": []
  },
  {
   "cell_type": "code",
   "execution_count": 121,
   "id": "0c4cad15",
   "metadata": {},
   "outputs": [],
   "source": [
    "imdb_sentences =[]\n",
    "imdb_labels=[]\n",
    "\n",
    "for item in train_data:\n",
    "    imdb_sentences.append(str(item['text']))\n",
    "    imdb_labels.append(item['label'])\n",
    "    "
   ]
  },
  {
   "cell_type": "code",
   "execution_count": 96,
   "id": "30fa5e06",
   "metadata": {},
   "outputs": [
    {
     "data": {
      "text/plain": [
       "25000"
      ]
     },
     "execution_count": 96,
     "metadata": {},
     "output_type": "execute_result"
    }
   ],
   "source": [
    "len(imdb_sentences)"
   ]
  },
  {
   "cell_type": "code",
   "execution_count": 122,
   "id": "8ab3be8c",
   "metadata": {},
   "outputs": [],
   "source": [
    "## separation des donnees\n",
    "\n",
    "training_sentences=imdb_sentences[:20000]\n",
    "test_sentences=imdb_sentences[20000:]\n",
    "\n",
    "\n",
    "training_labels =imdb_labels[:20000]\n",
    "test_labels =imdb_labels[20000:]"
   ]
  },
  {
   "cell_type": "code",
   "execution_count": 124,
   "id": "50b7cac1",
   "metadata": {},
   "outputs": [
    {
     "name": "stdout",
     "output_type": "stream",
     "text": [
      "<class 'list'>\n"
     ]
    }
   ],
   "source": [
    "print(type(training_sentences))"
   ]
  },
  {
   "cell_type": "markdown",
   "id": "51cdd0e5",
   "metadata": {},
   "source": [
    "### tokenisation: de phrase en liste de mots"
   ]
  },
  {
   "cell_type": "code",
   "execution_count": 100,
   "id": "1432b52e",
   "metadata": {},
   "outputs": [],
   "source": [
    "from tensorflow.keras.preprocessing.text import Tokenizer"
   ]
  },
  {
   "cell_type": "code",
   "execution_count": 101,
   "id": "6aba1730",
   "metadata": {},
   "outputs": [],
   "source": [
    "tokenizer =Tokenizer(num_words=100,oov_token= \"<OVV>\")"
   ]
  },
  {
   "cell_type": "code",
   "execution_count": 102,
   "id": "dea3f858",
   "metadata": {},
   "outputs": [],
   "source": [
    "phrases =['je suis au marche','je suis en travail','Je mange du bassi dans la chambre de Issa']"
   ]
  },
  {
   "cell_type": "code",
   "execution_count": 103,
   "id": "648f6b8c",
   "metadata": {},
   "outputs": [],
   "source": [
    "tokenizer.fit_on_texts(phrases)"
   ]
  },
  {
   "cell_type": "code",
   "execution_count": 104,
   "id": "378efba8",
   "metadata": {},
   "outputs": [
    {
     "data": {
      "text/plain": [
       "{'<OVV>': 1,\n",
       " 'je': 2,\n",
       " 'suis': 3,\n",
       " 'au': 4,\n",
       " 'marche': 5,\n",
       " 'en': 6,\n",
       " 'travail': 7,\n",
       " 'mange': 8,\n",
       " 'du': 9,\n",
       " 'bassi': 10,\n",
       " 'dans': 11,\n",
       " 'la': 12,\n",
       " 'chambre': 13,\n",
       " 'de': 14,\n",
       " 'issa': 15}"
      ]
     },
     "execution_count": 104,
     "metadata": {},
     "output_type": "execute_result"
    }
   ],
   "source": [
    "tokenizer.word_index"
   ]
  },
  {
   "cell_type": "code",
   "execution_count": 71,
   "id": "07c57e51",
   "metadata": {},
   "outputs": [
    {
     "data": {
      "text/plain": [
       "{1: '<OVV>',\n",
       " 2: 'je',\n",
       " 3: 'suis',\n",
       " 4: 'je suis au marche',\n",
       " 5: 'je suis en travail',\n",
       " 6: 'je mange du bassi dans la chambre de issa',\n",
       " 7: 'au',\n",
       " 8: 'marche',\n",
       " 9: 'en',\n",
       " 10: 'travail',\n",
       " 11: 'mange',\n",
       " 12: 'du',\n",
       " 13: 'bassi',\n",
       " 14: 'dans',\n",
       " 15: 'la',\n",
       " 16: 'chambre',\n",
       " 17: 'de',\n",
       " 18: 'issa'}"
      ]
     },
     "execution_count": 71,
     "metadata": {},
     "output_type": "execute_result"
    }
   ],
   "source": [
    "tokenizer.index_word"
   ]
  },
  {
   "cell_type": "code",
   "execution_count": 37,
   "id": "ae046689",
   "metadata": {},
   "outputs": [],
   "source": [
    "### Numerisation  des textes"
   ]
  },
  {
   "cell_type": "code",
   "execution_count": 105,
   "id": "cec5ef5a",
   "metadata": {},
   "outputs": [],
   "source": [
    "squ = tokenizer.texts_to_sequences(phrases)"
   ]
  },
  {
   "cell_type": "code",
   "execution_count": 106,
   "id": "1b81c56e",
   "metadata": {},
   "outputs": [
    {
     "data": {
      "text/plain": [
       "[[2, 3, 4, 5], [2, 3, 6, 7], [2, 8, 9, 10, 11, 12, 13, 14, 15]]"
      ]
     },
     "execution_count": 106,
     "metadata": {},
     "output_type": "execute_result"
    }
   ],
   "source": [
    "squ"
   ]
  },
  {
   "cell_type": "code",
   "execution_count": 54,
   "id": "4851d2da",
   "metadata": {},
   "outputs": [],
   "source": [
    "### Padding pour completer les sequences avce des 000000\n",
    "## et le truncating pour couper une phrase si elle est trop longue"
   ]
  },
  {
   "cell_type": "code",
   "execution_count": 107,
   "id": "2ebb4c4b",
   "metadata": {},
   "outputs": [],
   "source": [
    "from tensorflow.keras.preprocessing.sequence import pad_sequences"
   ]
  },
  {
   "cell_type": "code",
   "execution_count": 108,
   "id": "cc1d7575",
   "metadata": {},
   "outputs": [
    {
     "data": {
      "text/plain": [
       "array([[ 0,  0,  0,  0,  0,  2,  3,  4,  5],\n",
       "       [ 0,  0,  0,  0,  0,  2,  3,  6,  7],\n",
       "       [ 2,  8,  9, 10, 11, 12, 13, 14, 15]])"
      ]
     },
     "execution_count": 108,
     "metadata": {},
     "output_type": "execute_result"
    }
   ],
   "source": [
    "pad_sequences(squ)"
   ]
  },
  {
   "cell_type": "code",
   "execution_count": 109,
   "id": "4676a114",
   "metadata": {},
   "outputs": [
    {
     "data": {
      "text/plain": [
       "array([[ 2,  3,  4,  5,  0,  0,  0,  0,  0],\n",
       "       [ 2,  3,  6,  7,  0,  0,  0,  0,  0],\n",
       "       [ 2,  8,  9, 10, 11, 12, 13, 14, 15]])"
      ]
     },
     "execution_count": 109,
     "metadata": {},
     "output_type": "execute_result"
    }
   ],
   "source": [
    "pad_sequences(squ,padding='post')"
   ]
  },
  {
   "cell_type": "code",
   "execution_count": 110,
   "id": "7227342a",
   "metadata": {},
   "outputs": [
    {
     "data": {
      "text/plain": [
       "array([[ 2,  3,  4,  5,  0,  0,  0],\n",
       "       [ 2,  3,  6,  7,  0,  0,  0],\n",
       "       [ 9, 10, 11, 12, 13, 14, 15]])"
      ]
     },
     "execution_count": 110,
     "metadata": {},
     "output_type": "execute_result"
    }
   ],
   "source": [
    "pad_sequences(squ,padding='post',maxlen=7)"
   ]
  },
  {
   "cell_type": "code",
   "execution_count": 111,
   "id": "866b29a5",
   "metadata": {},
   "outputs": [
    {
     "data": {
      "text/plain": [
       "array([[ 2,  3,  4,  5,  0,  0,  0],\n",
       "       [ 2,  3,  6,  7,  0,  0,  0],\n",
       "       [ 2,  8,  9, 10, 11, 12, 13]])"
      ]
     },
     "execution_count": 111,
     "metadata": {},
     "output_type": "execute_result"
    }
   ],
   "source": [
    "pad_sequences(squ,padding='post',maxlen=7,truncating='post')"
   ]
  },
  {
   "cell_type": "code",
   "execution_count": 119,
   "id": "4e00d732",
   "metadata": {},
   "outputs": [
    {
     "name": "stdout",
     "output_type": "stream",
     "text": [
      "<class 'list'>\n"
     ]
    }
   ],
   "source": [
    "print(type(training_sentences))\n"
   ]
  },
  {
   "cell_type": "markdown",
   "id": "966dc6a9",
   "metadata": {},
   "source": [
    "### Aproche de calcul de sentiment et le embedding"
   ]
  },
  {
   "cell_type": "code",
   "execution_count": 116,
   "id": "aa0206a5",
   "metadata": {},
   "outputs": [
    {
     "data": {
      "text/plain": [
       "b\"The director Sidney J. Furie has created in Hollow Point a post-modern absurdist masterpiece that challenges and constantly surprises the audience. <br /><br />Sidney J. Furie dares to ask the question of what happens to the tired conventional traditionalist paradigms of 'plot' and 'characterisation' when you remove the crutches of 'motivation' and 'reason'. <br /><br />The result leads me to say that my opinion of him could not possibly get any higher.<br /><br />One and a half stars.<br /><br />P.S. Nothing in this movie makes any sense, the law enforcement agents are flat out unlikeable and the organised criminals are full on insane.\""
      ]
     },
     "execution_count": 116,
     "metadata": {},
     "output_type": "execute_result"
    }
   ],
   "source": [
    " training_sentences[45]"
   ]
  },
  {
   "cell_type": "code",
   "execution_count": 117,
   "id": "2ed1c93a",
   "metadata": {},
   "outputs": [
    {
     "data": {
      "text/plain": [
       "0"
      ]
     },
     "execution_count": 117,
     "metadata": {},
     "output_type": "execute_result"
    }
   ],
   "source": [
    "training_labels[45]"
   ]
  },
  {
   "cell_type": "code",
   "execution_count": null,
   "id": "99d94a5f",
   "metadata": {},
   "outputs": [],
   "source": []
  },
  {
   "cell_type": "code",
   "execution_count": 127,
   "id": "ceb8306f",
   "metadata": {},
   "outputs": [],
   "source": [
    "\n",
    "\n",
    "tokenizer = Tokenizer(num_words=20000, oov_token=\"<OVV>\")\n",
    "tokenizer.fit_on_texts(training_sentences)\n",
    "word_index = tokenizer.word_index\n",
    "\n",
    "training_sequences = tokenizer.texts_to_sequences(training_sentences)\n",
    "training_padded =pad_sequences(training_sequences,padding='post',maxlen=20,truncating='post')\n",
    "\n",
    "test_sequences=tokenizer.texts_to_sequences(test_sentences)\n",
    "test_padded =pad_sequences(test_sequences,padding='post',maxlen=20,truncating='post')"
   ]
  },
  {
   "cell_type": "code",
   "execution_count": 128,
   "id": "6f2aab7d",
   "metadata": {},
   "outputs": [
    {
     "data": {
      "text/plain": [
       "array([   60,     2,   157,  2626,  1402,     1,    49,  1121,     9,\n",
       "        4523,   210,     4,  1206,   707, 13094,  1016,    13,  5482,\n",
       "           3,  1431])"
      ]
     },
     "execution_count": 128,
     "metadata": {},
     "output_type": "execute_result"
    }
   ],
   "source": [
    "training_padded[45]"
   ]
  },
  {
   "cell_type": "code",
   "execution_count": 129,
   "id": "273e014f",
   "metadata": {},
   "outputs": [
    {
     "data": {
      "text/plain": [
       "array([  60,  450,   29,   64,  117,   14, 4834,    1,    1,    6, 2317,\n",
       "          3,  134,    7, 1094,  572,   25,  558,   14,  575])"
      ]
     },
     "execution_count": 129,
     "metadata": {},
     "output_type": "execute_result"
    }
   ],
   "source": [
    "test_padded[45]"
   ]
  },
  {
   "cell_type": "markdown",
   "id": "d8f3a551",
   "metadata": {},
   "source": [
    "### La couche embedding"
   ]
  },
  {
   "cell_type": "code",
   "execution_count": 130,
   "id": "0a0ea7db",
   "metadata": {},
   "outputs": [],
   "source": [
    "import numpy as np"
   ]
  },
  {
   "cell_type": "code",
   "execution_count": 131,
   "id": "e099339a",
   "metadata": {},
   "outputs": [],
   "source": [
    "training_labels=np.array(training_labels)\n",
    "test_labels = np.array(test_labels)"
   ]
  },
  {
   "cell_type": "code",
   "execution_count": 132,
   "id": "b49381f4",
   "metadata": {},
   "outputs": [],
   "source": [
    "model = tf.keras.models.Sequential(\n",
    "        [\n",
    "            tf.keras.layers.Embedding(20000,20),\n",
    "            tf.keras.layers.GlobalAveragePooling1D(),##cela fait le moyenne des embeding pour cahque phrase\n",
    "            \n",
    "            ##Denses\n",
    "            tf.keras.layers.Dense(8,activation='relu'),\n",
    "            tf.keras.layers.Dense(1,activation='sigmoid'),\n",
    "            \n",
    "        ])\n",
    "\n"
   ]
  },
  {
   "cell_type": "code",
   "execution_count": 133,
   "id": "ac1b3d43",
   "metadata": {},
   "outputs": [],
   "source": [
    "# tf.keras.layers.Embedding(20000,20) #le permier parametre c'est le vocabulary_size et le deuxieme c'est \n",
    "#                                     # c'est le nombre de caracteristique pour chaque mots.  "
   ]
  },
  {
   "cell_type": "code",
   "execution_count": 134,
   "id": "3f25d5ba",
   "metadata": {},
   "outputs": [
    {
     "name": "stdout",
     "output_type": "stream",
     "text": [
      "Model: \"sequential\"\n",
      "_________________________________________________________________\n",
      " Layer (type)                Output Shape              Param #   \n",
      "=================================================================\n",
      " embedding (Embedding)       (None, None, 20)          400000    \n",
      "                                                                 \n",
      " global_average_pooling1d (  (None, 20)                0         \n",
      " GlobalAveragePooling1D)                                         \n",
      "                                                                 \n",
      " dense (Dense)               (None, 8)                 168       \n",
      "                                                                 \n",
      " dense_1 (Dense)             (None, 1)                 9         \n",
      "                                                                 \n",
      "=================================================================\n",
      "Total params: 400177 (1.53 MB)\n",
      "Trainable params: 400177 (1.53 MB)\n",
      "Non-trainable params: 0 (0.00 Byte)\n",
      "_________________________________________________________________\n"
     ]
    }
   ],
   "source": [
    "model.summary()"
   ]
  },
  {
   "cell_type": "code",
   "execution_count": 137,
   "id": "505088dc",
   "metadata": {},
   "outputs": [
    {
     "name": "stdout",
     "output_type": "stream",
     "text": [
      "Epoch 1/50\n",
      "625/625 [==============================] - 8s 11ms/step - loss: 0.6338 - accuracy: 0.6591 - val_loss: 0.5701 - val_accuracy: 0.7032\n",
      "Epoch 2/50\n",
      "625/625 [==============================] - 7s 11ms/step - loss: 0.4793 - accuracy: 0.7744 - val_loss: 0.5585 - val_accuracy: 0.7132\n",
      "Epoch 3/50\n",
      "625/625 [==============================] - 7s 11ms/step - loss: 0.3974 - accuracy: 0.8243 - val_loss: 0.5884 - val_accuracy: 0.7092\n",
      "Epoch 4/50\n",
      "625/625 [==============================] - 7s 11ms/step - loss: 0.3433 - accuracy: 0.8552 - val_loss: 0.6318 - val_accuracy: 0.7036\n",
      "Epoch 5/50\n",
      "625/625 [==============================] - 7s 10ms/step - loss: 0.3056 - accuracy: 0.8734 - val_loss: 0.6807 - val_accuracy: 0.6918\n",
      "Epoch 6/50\n",
      "625/625 [==============================] - 7s 11ms/step - loss: 0.2754 - accuracy: 0.8902 - val_loss: 0.7396 - val_accuracy: 0.6872\n",
      "Epoch 7/50\n",
      "625/625 [==============================] - 7s 11ms/step - loss: 0.2507 - accuracy: 0.9011 - val_loss: 0.7940 - val_accuracy: 0.6856\n",
      "Epoch 8/50\n",
      "625/625 [==============================] - 7s 11ms/step - loss: 0.2316 - accuracy: 0.9101 - val_loss: 0.8468 - val_accuracy: 0.6802\n",
      "Epoch 9/50\n",
      "625/625 [==============================] - 7s 11ms/step - loss: 0.2153 - accuracy: 0.9176 - val_loss: 0.9064 - val_accuracy: 0.6772\n",
      "Epoch 10/50\n",
      "625/625 [==============================] - 7s 11ms/step - loss: 0.2009 - accuracy: 0.9233 - val_loss: 0.9653 - val_accuracy: 0.6806\n",
      "Epoch 11/50\n",
      "625/625 [==============================] - 7s 12ms/step - loss: 0.1898 - accuracy: 0.9283 - val_loss: 1.0201 - val_accuracy: 0.6716\n",
      "Epoch 12/50\n",
      "625/625 [==============================] - 8s 12ms/step - loss: 0.1792 - accuracy: 0.9337 - val_loss: 1.0756 - val_accuracy: 0.6690\n",
      "Epoch 13/50\n",
      "625/625 [==============================] - 7s 11ms/step - loss: 0.1693 - accuracy: 0.9369 - val_loss: 1.1473 - val_accuracy: 0.6678\n",
      "Epoch 14/50\n",
      "625/625 [==============================] - 7s 11ms/step - loss: 0.1626 - accuracy: 0.9384 - val_loss: 1.1846 - val_accuracy: 0.6668\n",
      "Epoch 15/50\n",
      "625/625 [==============================] - 7s 11ms/step - loss: 0.1543 - accuracy: 0.9428 - val_loss: 1.2398 - val_accuracy: 0.6670\n",
      "Epoch 16/50\n",
      "625/625 [==============================] - 7s 11ms/step - loss: 0.1476 - accuracy: 0.9457 - val_loss: 1.2961 - val_accuracy: 0.6642\n",
      "Epoch 17/50\n",
      "625/625 [==============================] - 7s 11ms/step - loss: 0.1420 - accuracy: 0.9479 - val_loss: 1.3652 - val_accuracy: 0.6670\n",
      "Epoch 18/50\n",
      "625/625 [==============================] - 7s 11ms/step - loss: 0.1371 - accuracy: 0.9488 - val_loss: 1.4017 - val_accuracy: 0.6686\n",
      "Epoch 19/50\n",
      "625/625 [==============================] - 6s 10ms/step - loss: 0.1314 - accuracy: 0.9513 - val_loss: 1.4587 - val_accuracy: 0.6622\n",
      "Epoch 20/50\n",
      "625/625 [==============================] - 7s 11ms/step - loss: 0.1261 - accuracy: 0.9545 - val_loss: 1.5030 - val_accuracy: 0.6658\n",
      "Epoch 21/50\n",
      "625/625 [==============================] - 7s 11ms/step - loss: 0.1214 - accuracy: 0.9554 - val_loss: 1.5958 - val_accuracy: 0.6618\n",
      "Epoch 22/50\n",
      "625/625 [==============================] - 7s 11ms/step - loss: 0.1141 - accuracy: 0.9588 - val_loss: 1.6629 - val_accuracy: 0.6628\n",
      "Epoch 23/50\n",
      "625/625 [==============================] - 7s 11ms/step - loss: 0.1109 - accuracy: 0.9578 - val_loss: 1.7442 - val_accuracy: 0.6610\n",
      "Epoch 24/50\n",
      "625/625 [==============================] - 7s 11ms/step - loss: 0.1063 - accuracy: 0.9595 - val_loss: 1.7895 - val_accuracy: 0.6542\n",
      "Epoch 25/50\n",
      "625/625 [==============================] - 7s 11ms/step - loss: 0.1012 - accuracy: 0.9610 - val_loss: 1.8891 - val_accuracy: 0.6584\n",
      "Epoch 26/50\n",
      "625/625 [==============================] - 7s 11ms/step - loss: 0.0971 - accuracy: 0.9632 - val_loss: 2.0306 - val_accuracy: 0.6584\n",
      "Epoch 27/50\n",
      "625/625 [==============================] - 7s 12ms/step - loss: 0.0912 - accuracy: 0.9643 - val_loss: 2.0902 - val_accuracy: 0.6548\n",
      "Epoch 28/50\n",
      "625/625 [==============================] - 7s 11ms/step - loss: 0.0851 - accuracy: 0.9653 - val_loss: 2.2895 - val_accuracy: 0.6562\n",
      "Epoch 29/50\n",
      "625/625 [==============================] - 7s 11ms/step - loss: 0.0808 - accuracy: 0.9657 - val_loss: 2.3856 - val_accuracy: 0.6528\n",
      "Epoch 30/50\n",
      "625/625 [==============================] - 7s 11ms/step - loss: 0.0758 - accuracy: 0.9669 - val_loss: 2.5338 - val_accuracy: 0.6592\n",
      "Epoch 31/50\n",
      "625/625 [==============================] - 7s 11ms/step - loss: 0.0700 - accuracy: 0.9695 - val_loss: 2.6924 - val_accuracy: 0.6534\n",
      "Epoch 32/50\n",
      "625/625 [==============================] - 7s 11ms/step - loss: 0.0664 - accuracy: 0.9714 - val_loss: 2.8164 - val_accuracy: 0.6516\n",
      "Epoch 33/50\n",
      "625/625 [==============================] - 6s 10ms/step - loss: 0.0599 - accuracy: 0.9725 - val_loss: 3.0209 - val_accuracy: 0.6554\n",
      "Epoch 34/50\n",
      "625/625 [==============================] - 7s 11ms/step - loss: 0.0582 - accuracy: 0.9719 - val_loss: 3.1538 - val_accuracy: 0.6544\n",
      "Epoch 35/50\n",
      "625/625 [==============================] - 7s 12ms/step - loss: 0.0552 - accuracy: 0.9730 - val_loss: 3.2863 - val_accuracy: 0.6552\n",
      "Epoch 36/50\n",
      "625/625 [==============================] - 8s 13ms/step - loss: 0.0502 - accuracy: 0.9763 - val_loss: 3.4621 - val_accuracy: 0.6512\n",
      "Epoch 37/50\n",
      "625/625 [==============================] - 8s 13ms/step - loss: 0.0480 - accuracy: 0.9791 - val_loss: 3.6287 - val_accuracy: 0.6466\n",
      "Epoch 38/50\n",
      "625/625 [==============================] - 8s 13ms/step - loss: 0.0446 - accuracy: 0.9802 - val_loss: 3.7636 - val_accuracy: 0.6478\n",
      "Epoch 39/50\n",
      "625/625 [==============================] - 7s 11ms/step - loss: 0.0431 - accuracy: 0.9805 - val_loss: 3.9175 - val_accuracy: 0.6490\n",
      "Epoch 40/50\n",
      "625/625 [==============================] - 7s 11ms/step - loss: 0.0400 - accuracy: 0.9811 - val_loss: 4.0914 - val_accuracy: 0.6492\n",
      "Epoch 41/50\n",
      "625/625 [==============================] - 7s 11ms/step - loss: 0.0383 - accuracy: 0.9822 - val_loss: 4.2478 - val_accuracy: 0.6522\n",
      "Epoch 42/50\n",
      "625/625 [==============================] - 7s 12ms/step - loss: 0.0396 - accuracy: 0.9815 - val_loss: 4.3841 - val_accuracy: 0.6454\n",
      "Epoch 43/50\n",
      "625/625 [==============================] - 9s 14ms/step - loss: 0.0360 - accuracy: 0.9841 - val_loss: 4.4944 - val_accuracy: 0.6484\n",
      "Epoch 44/50\n",
      "625/625 [==============================] - 7s 11ms/step - loss: 0.0314 - accuracy: 0.9852 - val_loss: 4.6932 - val_accuracy: 0.6502\n",
      "Epoch 45/50\n",
      "625/625 [==============================] - 7s 10ms/step - loss: 0.0309 - accuracy: 0.9852 - val_loss: 4.8129 - val_accuracy: 0.6540\n",
      "Epoch 46/50\n",
      "625/625 [==============================] - 7s 11ms/step - loss: 0.0301 - accuracy: 0.9862 - val_loss: 5.0089 - val_accuracy: 0.6504\n",
      "Epoch 47/50\n",
      "625/625 [==============================] - 6s 10ms/step - loss: 0.0323 - accuracy: 0.9853 - val_loss: 5.0752 - val_accuracy: 0.6488\n",
      "Epoch 48/50\n",
      "625/625 [==============================] - 7s 12ms/step - loss: 0.0296 - accuracy: 0.9857 - val_loss: 5.2255 - val_accuracy: 0.6520\n",
      "Epoch 49/50\n",
      "625/625 [==============================] - 7s 12ms/step - loss: 0.0270 - accuracy: 0.9875 - val_loss: 5.3893 - val_accuracy: 0.6456\n",
      "Epoch 50/50\n",
      "625/625 [==============================] - 7s 11ms/step - loss: 0.0279 - accuracy: 0.9870 - val_loss: 5.4860 - val_accuracy: 0.6522\n"
     ]
    }
   ],
   "source": [
    "model.compile(loss='binary_crossentropy', optimizer='adam', metrics=['accuracy'])\n",
    "\n",
    "h=model.fit(training_padded, training_labels,epochs=50,validation_data=(test_padded,test_labels))"
   ]
  },
  {
   "cell_type": "code",
   "execution_count": 140,
   "id": "142148ca",
   "metadata": {},
   "outputs": [],
   "source": [
    "import matplotlib.pyplot as plt\n",
    "def plot_graph(history,string):\n",
    "    plt.plot(history.history[string])\n",
    "    plt.plot(history.history['val_'+string])\n",
    "    plt.xlabel('epochs')\n",
    "    plt.ylabel(string)\n",
    "    plt.legend([string,'val_'+string])"
   ]
  },
  {
   "cell_type": "code",
   "execution_count": 143,
   "id": "965efa88",
   "metadata": {},
   "outputs": [
    {
     "data": {
      "image/png": "[encoded data removed]",
      "text/plain": [
       "<Figure size 640x480 with 1 Axes>"
      ]
     },
     "metadata": {},
     "output_type": "display_data"
    }
   ],
   "source": [
    "plot_graph(h,'accuracy')\n"
   ]
  },
  {
   "cell_type": "code",
   "execution_count": 144,
   "id": "c0ca0198",
   "metadata": {},
   "outputs": [
    {
     "data": {
      "image/png": "[encoded data removed]",
      "text/plain": [
       "<Figure size 640x480 with 1 Axes>"
      ]
     },
     "metadata": {},
     "output_type": "display_data"
    }
   ],
   "source": [
    "plot_graph(h,'loss')"
   ]
  },
  {
   "cell_type": "markdown",
   "id": "79142432",
   "metadata": {},
   "source": [
    "# Reduire le overfiting"
   ]
  },
  {
   "cell_type": "markdown",
   "id": "124a3be0",
   "metadata": {},
   "source": [
    "### Le vocab_size"
   ]
  },
  {
   "cell_type": "code",
   "execution_count": 145,
   "id": "2cbf1668",
   "metadata": {},
   "outputs": [],
   "source": [
    "##On peut faire l'explorartion des donnes avec pd pour trouver un compromis du vocab_size. ici on prend 29.000"
   ]
  },
  {
   "cell_type": "code",
   "execution_count": 146,
   "id": "af8c72d8",
   "metadata": {},
   "outputs": [],
   "source": [
    "\n",
    "tokenizer = Tokenizer(num_words=29000, oov_token=\"<OVV>\")\n",
    "tokenizer.fit_on_texts(training_sentences)\n",
    "word_index = tokenizer.word_index\n",
    "\n",
    "training_sequences = tokenizer.texts_to_sequences(training_sentences)\n",
    "training_padded =pad_sequences(training_sequences,padding='post',maxlen=20,truncating='post')\n",
    "\n",
    "test_sequences=tokenizer.texts_to_sequences(test_sentences)\n",
    "test_padded =pad_sequences(test_sequences,padding='post',maxlen=20,truncating='post')"
   ]
  },
  {
   "cell_type": "code",
   "execution_count": 150,
   "id": "a7f8bb1b",
   "metadata": {},
   "outputs": [],
   "source": [
    "model = tf.keras.models.Sequential(\n",
    "        [\n",
    "            tf.keras.layers.Embedding(49000,20),\n",
    "            tf.keras.layers.GlobalAveragePooling1D(),##cela fait le moyenne des embeding pour cahque phrase\n",
    "            \n",
    "            ##Denses\n",
    "            tf.keras.layers.Dense(64,activation='relu'),\n",
    "             tf.keras.layers.Dropout(0.6),\n",
    "            tf.keras.layers.Dense(1,activation='sigmoid'),\n",
    "            \n",
    "        ])"
   ]
  },
  {
   "cell_type": "code",
   "execution_count": 151,
   "id": "d32ef05c",
   "metadata": {},
   "outputs": [
    {
     "name": "stdout",
     "output_type": "stream",
     "text": [
      "Epoch 1/50\n",
      "625/625 [==============================] - 15s 23ms/step - loss: 0.6368 - accuracy: 0.6414 - val_loss: 0.5664 - val_accuracy: 0.7036\n",
      "Epoch 2/50\n",
      "625/625 [==============================] - 14s 23ms/step - loss: 0.4812 - accuracy: 0.7771 - val_loss: 0.5565 - val_accuracy: 0.7064\n",
      "Epoch 3/50\n",
      "625/625 [==============================] - 15s 23ms/step - loss: 0.3887 - accuracy: 0.8353 - val_loss: 0.5935 - val_accuracy: 0.7072\n",
      "Epoch 4/50\n",
      "625/625 [==============================] - 14s 23ms/step - loss: 0.3263 - accuracy: 0.8702 - val_loss: 0.6424 - val_accuracy: 0.6986\n",
      "Epoch 5/50\n",
      "625/625 [==============================] - 14s 23ms/step - loss: 0.2773 - accuracy: 0.8925 - val_loss: 0.7100 - val_accuracy: 0.6990\n",
      "Epoch 6/50\n",
      "625/625 [==============================] - 16s 25ms/step - loss: 0.2360 - accuracy: 0.9075 - val_loss: 0.8132 - val_accuracy: 0.6940\n",
      "Epoch 7/50\n",
      "625/625 [==============================] - 15s 23ms/step - loss: 0.2067 - accuracy: 0.9199 - val_loss: 0.9226 - val_accuracy: 0.6858\n",
      "Epoch 8/50\n",
      "625/625 [==============================] - 15s 24ms/step - loss: 0.1800 - accuracy: 0.9266 - val_loss: 1.0175 - val_accuracy: 0.6886\n",
      "Epoch 9/50\n",
      "625/625 [==============================] - 15s 24ms/step - loss: 0.1575 - accuracy: 0.9352 - val_loss: 1.1559 - val_accuracy: 0.6822\n",
      "Epoch 10/50\n",
      "625/625 [==============================] - 15s 24ms/step - loss: 0.1406 - accuracy: 0.9384 - val_loss: 1.2975 - val_accuracy: 0.6856\n",
      "Epoch 11/50\n",
      "625/625 [==============================] - 15s 23ms/step - loss: 0.1245 - accuracy: 0.9448 - val_loss: 1.4782 - val_accuracy: 0.6828\n",
      "Epoch 12/50\n",
      "625/625 [==============================] - 15s 24ms/step - loss: 0.1114 - accuracy: 0.9493 - val_loss: 1.6037 - val_accuracy: 0.6824\n",
      "Epoch 13/50\n",
      "625/625 [==============================] - 15s 24ms/step - loss: 0.1041 - accuracy: 0.9531 - val_loss: 1.7692 - val_accuracy: 0.6784\n",
      "Epoch 14/50\n",
      "625/625 [==============================] - 15s 24ms/step - loss: 0.0932 - accuracy: 0.9574 - val_loss: 1.9201 - val_accuracy: 0.6746\n",
      "Epoch 15/50\n",
      "625/625 [==============================] - 15s 24ms/step - loss: 0.0881 - accuracy: 0.9592 - val_loss: 1.9787 - val_accuracy: 0.6798\n",
      "Epoch 16/50\n",
      "625/625 [==============================] - 14s 23ms/step - loss: 0.0812 - accuracy: 0.9632 - val_loss: 2.1926 - val_accuracy: 0.6728\n",
      "Epoch 17/50\n",
      "625/625 [==============================] - 15s 24ms/step - loss: 0.0754 - accuracy: 0.9657 - val_loss: 2.3380 - val_accuracy: 0.6700\n",
      "Epoch 18/50\n",
      "625/625 [==============================] - 15s 24ms/step - loss: 0.0727 - accuracy: 0.9666 - val_loss: 2.4779 - val_accuracy: 0.6694\n",
      "Epoch 19/50\n",
      "625/625 [==============================] - 14s 23ms/step - loss: 0.0698 - accuracy: 0.9678 - val_loss: 2.6039 - val_accuracy: 0.6730\n",
      "Epoch 20/50\n",
      "625/625 [==============================] - 14s 23ms/step - loss: 0.0637 - accuracy: 0.9709 - val_loss: 2.6906 - val_accuracy: 0.6718\n",
      "Epoch 21/50\n",
      "625/625 [==============================] - 14s 23ms/step - loss: 0.0626 - accuracy: 0.9725 - val_loss: 2.7630 - val_accuracy: 0.6718\n",
      "Epoch 22/50\n",
      "625/625 [==============================] - 15s 24ms/step - loss: 0.0609 - accuracy: 0.9734 - val_loss: 2.8937 - val_accuracy: 0.6726\n",
      "Epoch 23/50\n",
      "625/625 [==============================] - 17s 26ms/step - loss: 0.0559 - accuracy: 0.9769 - val_loss: 3.0327 - val_accuracy: 0.6754\n",
      "Epoch 24/50\n",
      "625/625 [==============================] - 15s 24ms/step - loss: 0.0531 - accuracy: 0.9776 - val_loss: 3.0756 - val_accuracy: 0.6720\n",
      "Epoch 25/50\n",
      "625/625 [==============================] - 15s 23ms/step - loss: 0.0494 - accuracy: 0.9793 - val_loss: 3.2776 - val_accuracy: 0.6742\n",
      "Epoch 26/50\n",
      "625/625 [==============================] - 15s 23ms/step - loss: 0.0497 - accuracy: 0.9797 - val_loss: 3.3839 - val_accuracy: 0.6730\n",
      "Epoch 27/50\n",
      "625/625 [==============================] - 15s 24ms/step - loss: 0.0463 - accuracy: 0.9812 - val_loss: 3.4891 - val_accuracy: 0.6728\n",
      "Epoch 28/50\n",
      "625/625 [==============================] - 15s 24ms/step - loss: 0.0415 - accuracy: 0.9817 - val_loss: 3.5857 - val_accuracy: 0.6710\n",
      "Epoch 29/50\n",
      "625/625 [==============================] - 15s 23ms/step - loss: 0.0407 - accuracy: 0.9836 - val_loss: 3.7104 - val_accuracy: 0.6708\n",
      "Epoch 30/50\n",
      "625/625 [==============================] - 15s 24ms/step - loss: 0.0391 - accuracy: 0.9845 - val_loss: 3.8160 - val_accuracy: 0.6718\n",
      "Epoch 31/50\n",
      "625/625 [==============================] - 16s 25ms/step - loss: 0.0387 - accuracy: 0.9850 - val_loss: 3.8673 - val_accuracy: 0.6688\n",
      "Epoch 32/50\n",
      "625/625 [==============================] - 15s 24ms/step - loss: 0.0385 - accuracy: 0.9847 - val_loss: 4.0411 - val_accuracy: 0.6752\n",
      "Epoch 33/50\n",
      "625/625 [==============================] - 15s 24ms/step - loss: 0.0346 - accuracy: 0.9869 - val_loss: 4.1406 - val_accuracy: 0.6684\n",
      "Epoch 34/50\n",
      "625/625 [==============================] - 15s 24ms/step - loss: 0.0316 - accuracy: 0.9875 - val_loss: 4.1594 - val_accuracy: 0.6678\n",
      "Epoch 35/50\n",
      "625/625 [==============================] - 15s 24ms/step - loss: 0.0334 - accuracy: 0.9873 - val_loss: 4.3245 - val_accuracy: 0.6728\n",
      "Epoch 36/50\n",
      "625/625 [==============================] - 15s 24ms/step - loss: 0.0295 - accuracy: 0.9890 - val_loss: 4.5023 - val_accuracy: 0.6720\n",
      "Epoch 37/50\n",
      "625/625 [==============================] - 15s 24ms/step - loss: 0.0310 - accuracy: 0.9888 - val_loss: 4.5549 - val_accuracy: 0.6718\n",
      "Epoch 38/50\n",
      "625/625 [==============================] - 15s 24ms/step - loss: 0.0305 - accuracy: 0.9889 - val_loss: 4.7304 - val_accuracy: 0.6690\n",
      "Epoch 39/50\n",
      "625/625 [==============================] - 15s 24ms/step - loss: 0.0263 - accuracy: 0.9905 - val_loss: 4.8238 - val_accuracy: 0.6728\n",
      "Epoch 40/50\n",
      "625/625 [==============================] - 15s 24ms/step - loss: 0.0274 - accuracy: 0.9893 - val_loss: 4.8765 - val_accuracy: 0.6678\n",
      "Epoch 41/50\n",
      "625/625 [==============================] - 15s 24ms/step - loss: 0.0267 - accuracy: 0.9903 - val_loss: 4.9014 - val_accuracy: 0.6664\n",
      "Epoch 42/50\n",
      "625/625 [==============================] - 15s 24ms/step - loss: 0.0255 - accuracy: 0.9904 - val_loss: 5.0266 - val_accuracy: 0.6648\n",
      "Epoch 43/50\n",
      "625/625 [==============================] - 15s 23ms/step - loss: 0.0252 - accuracy: 0.9910 - val_loss: 5.1127 - val_accuracy: 0.6696\n",
      "Epoch 44/50\n",
      "625/625 [==============================] - 15s 24ms/step - loss: 0.0244 - accuracy: 0.9909 - val_loss: 5.1440 - val_accuracy: 0.6652\n",
      "Epoch 45/50\n",
      "625/625 [==============================] - 17s 27ms/step - loss: 0.0253 - accuracy: 0.9905 - val_loss: 5.1429 - val_accuracy: 0.6682\n",
      "Epoch 46/50\n",
      "625/625 [==============================] - 15s 25ms/step - loss: 0.0222 - accuracy: 0.9916 - val_loss: 5.2980 - val_accuracy: 0.6716\n",
      "Epoch 47/50\n",
      "625/625 [==============================] - 17s 28ms/step - loss: 0.0217 - accuracy: 0.9917 - val_loss: 5.3645 - val_accuracy: 0.6712\n",
      "Epoch 48/50\n",
      "625/625 [==============================] - 16s 26ms/step - loss: 0.0233 - accuracy: 0.9917 - val_loss: 5.4505 - val_accuracy: 0.6710\n",
      "Epoch 49/50\n",
      "625/625 [==============================] - 15s 24ms/step - loss: 0.0189 - accuracy: 0.9923 - val_loss: 5.4995 - val_accuracy: 0.6670\n",
      "Epoch 50/50\n",
      "625/625 [==============================] - 15s 24ms/step - loss: 0.0225 - accuracy: 0.9913 - val_loss: 5.6102 - val_accuracy: 0.6694\n"
     ]
    }
   ],
   "source": [
    "model.compile(loss='binary_crossentropy', optimizer='adam', metrics=['accuracy'])\n",
    "\n",
    "h=model.fit(training_padded, training_labels,epochs=50,validation_data=(test_padded,test_labels))"
   ]
  },
  {
   "cell_type": "code",
   "execution_count": 153,
   "id": "a4016a0a",
   "metadata": {},
   "outputs": [
    {
     "data": {
      "image/png": "[encoded data removed]",
      "text/plain": [
       "<Figure size 640x480 with 1 Axes>"
      ]
     },
     "metadata": {},
     "output_type": "display_data"
    }
   ],
   "source": [
    "plot_graph(h,'accuracy')"
   ]
  },
  {
   "cell_type": "markdown",
   "id": "7d008ff2",
   "metadata": {},
   "source": [
    "##modifions le embedding dims"
   ]
  },
  {
   "cell_type": "markdown",
   "id": "bb9c9a72",
   "metadata": {},
   "source": [
    "## modifions le embedding dims"
   ]
  },
  {
   "cell_type": "code",
   "execution_count": 154,
   "id": "283555df",
   "metadata": {},
   "outputs": [],
   "source": [
    "embedding_dims =np.power(29000,1/4)"
   ]
  },
  {
   "cell_type": "code",
   "execution_count": 155,
   "id": "93b62a3a",
   "metadata": {},
   "outputs": [
    {
     "data": {
      "text/plain": [
       "13.049669101523763"
      ]
     },
     "execution_count": 155,
     "metadata": {},
     "output_type": "execute_result"
    }
   ],
   "source": [
    "embedding_dims"
   ]
  },
  {
   "cell_type": "code",
   "execution_count": 156,
   "id": "e0728227",
   "metadata": {},
   "outputs": [
    {
     "name": "stdout",
     "output_type": "stream",
     "text": [
      "Epoch 1/50\n",
      "625/625 [==============================] - 7s 10ms/step - loss: 0.6439 - accuracy: 0.6273 - val_loss: 0.5707 - val_accuracy: 0.7016\n",
      "Epoch 2/50\n",
      "625/625 [==============================] - 6s 10ms/step - loss: 0.4919 - accuracy: 0.7702 - val_loss: 0.5581 - val_accuracy: 0.7124\n",
      "Epoch 3/50\n",
      "625/625 [==============================] - 6s 10ms/step - loss: 0.4013 - accuracy: 0.8274 - val_loss: 0.5896 - val_accuracy: 0.7104\n",
      "Epoch 4/50\n",
      "625/625 [==============================] - 6s 10ms/step - loss: 0.3400 - accuracy: 0.8607 - val_loss: 0.6330 - val_accuracy: 0.7056\n",
      "Epoch 5/50\n",
      "625/625 [==============================] - 6s 10ms/step - loss: 0.2941 - accuracy: 0.8875 - val_loss: 0.6956 - val_accuracy: 0.7022\n",
      "Epoch 6/50\n",
      "625/625 [==============================] - 6s 9ms/step - loss: 0.2594 - accuracy: 0.9046 - val_loss: 0.7597 - val_accuracy: 0.6938\n",
      "Epoch 7/50\n",
      "625/625 [==============================] - 6s 10ms/step - loss: 0.2311 - accuracy: 0.9195 - val_loss: 0.8350 - val_accuracy: 0.6866\n",
      "Epoch 8/50\n",
      "625/625 [==============================] - 6s 10ms/step - loss: 0.2082 - accuracy: 0.9275 - val_loss: 0.9078 - val_accuracy: 0.6880\n",
      "Epoch 9/50\n",
      "625/625 [==============================] - 6s 10ms/step - loss: 0.1896 - accuracy: 0.9324 - val_loss: 0.9814 - val_accuracy: 0.6782\n",
      "Epoch 10/50\n",
      "625/625 [==============================] - 8s 12ms/step - loss: 0.1741 - accuracy: 0.9397 - val_loss: 1.0410 - val_accuracy: 0.6812\n",
      "Epoch 11/50\n",
      "625/625 [==============================] - 7s 10ms/step - loss: 0.1598 - accuracy: 0.9434 - val_loss: 1.1831 - val_accuracy: 0.6742\n",
      "Epoch 12/50\n",
      "625/625 [==============================] - 7s 11ms/step - loss: 0.1487 - accuracy: 0.9465 - val_loss: 1.2231 - val_accuracy: 0.6754\n",
      "Epoch 13/50\n",
      "625/625 [==============================] - 6s 10ms/step - loss: 0.1354 - accuracy: 0.9520 - val_loss: 1.3545 - val_accuracy: 0.6770\n",
      "Epoch 14/50\n",
      "625/625 [==============================] - 6s 10ms/step - loss: 0.1234 - accuracy: 0.9540 - val_loss: 1.4883 - val_accuracy: 0.6722\n",
      "Epoch 15/50\n",
      "625/625 [==============================] - 7s 11ms/step - loss: 0.1140 - accuracy: 0.9558 - val_loss: 1.5951 - val_accuracy: 0.6728\n",
      "Epoch 16/50\n",
      "625/625 [==============================] - 6s 10ms/step - loss: 0.1013 - accuracy: 0.9588 - val_loss: 1.7114 - val_accuracy: 0.6698\n",
      "Epoch 17/50\n",
      "625/625 [==============================] - 7s 11ms/step - loss: 0.0964 - accuracy: 0.9582 - val_loss: 1.9015 - val_accuracy: 0.6698\n",
      "Epoch 18/50\n",
      "625/625 [==============================] - 6s 10ms/step - loss: 0.0865 - accuracy: 0.9617 - val_loss: 2.0253 - val_accuracy: 0.6702\n",
      "Epoch 19/50\n",
      "625/625 [==============================] - 7s 10ms/step - loss: 0.0824 - accuracy: 0.9622 - val_loss: 2.2132 - val_accuracy: 0.6698\n",
      "Epoch 20/50\n",
      "625/625 [==============================] - 7s 10ms/step - loss: 0.0753 - accuracy: 0.9639 - val_loss: 2.3889 - val_accuracy: 0.6672\n",
      "Epoch 21/50\n",
      "625/625 [==============================] - 6s 10ms/step - loss: 0.0707 - accuracy: 0.9667 - val_loss: 2.5127 - val_accuracy: 0.6694\n",
      "Epoch 22/50\n",
      "625/625 [==============================] - 7s 11ms/step - loss: 0.0657 - accuracy: 0.9675 - val_loss: 2.7235 - val_accuracy: 0.6710\n",
      "Epoch 23/50\n",
      "625/625 [==============================] - 7s 11ms/step - loss: 0.0631 - accuracy: 0.9682 - val_loss: 2.8874 - val_accuracy: 0.6676\n",
      "Epoch 24/50\n",
      "625/625 [==============================] - 7s 11ms/step - loss: 0.0605 - accuracy: 0.9705 - val_loss: 3.0032 - val_accuracy: 0.6680\n",
      "Epoch 25/50\n",
      "625/625 [==============================] - 7s 11ms/step - loss: 0.0570 - accuracy: 0.9721 - val_loss: 3.1706 - val_accuracy: 0.6692\n",
      "Epoch 26/50\n",
      "625/625 [==============================] - 6s 10ms/step - loss: 0.0540 - accuracy: 0.9737 - val_loss: 3.2741 - val_accuracy: 0.6624\n",
      "Epoch 27/50\n",
      "625/625 [==============================] - 7s 11ms/step - loss: 0.0521 - accuracy: 0.9755 - val_loss: 3.4611 - val_accuracy: 0.6606\n",
      "Epoch 28/50\n",
      "625/625 [==============================] - 6s 10ms/step - loss: 0.0499 - accuracy: 0.9780 - val_loss: 3.5285 - val_accuracy: 0.6636\n",
      "Epoch 29/50\n",
      "625/625 [==============================] - 7s 11ms/step - loss: 0.0532 - accuracy: 0.9763 - val_loss: 3.6485 - val_accuracy: 0.6690\n",
      "Epoch 30/50\n",
      "625/625 [==============================] - 7s 11ms/step - loss: 0.0471 - accuracy: 0.9805 - val_loss: 3.6559 - val_accuracy: 0.6648\n",
      "Epoch 31/50\n",
      "625/625 [==============================] - 6s 10ms/step - loss: 0.0463 - accuracy: 0.9795 - val_loss: 3.8740 - val_accuracy: 0.6644\n",
      "Epoch 32/50\n",
      "625/625 [==============================] - 7s 12ms/step - loss: 0.0414 - accuracy: 0.9816 - val_loss: 3.9594 - val_accuracy: 0.6636\n",
      "Epoch 33/50\n",
      "625/625 [==============================] - 7s 11ms/step - loss: 0.0407 - accuracy: 0.9830 - val_loss: 4.1282 - val_accuracy: 0.6646\n",
      "Epoch 34/50\n",
      "625/625 [==============================] - 6s 10ms/step - loss: 0.0404 - accuracy: 0.9839 - val_loss: 4.0453 - val_accuracy: 0.6646\n",
      "Epoch 35/50\n",
      "625/625 [==============================] - 6s 10ms/step - loss: 0.0438 - accuracy: 0.9830 - val_loss: 4.3473 - val_accuracy: 0.6624\n",
      "Epoch 36/50\n",
      "625/625 [==============================] - 6s 10ms/step - loss: 0.0391 - accuracy: 0.9842 - val_loss: 4.4185 - val_accuracy: 0.6614\n",
      "Epoch 37/50\n",
      "625/625 [==============================] - 7s 11ms/step - loss: 0.0396 - accuracy: 0.9839 - val_loss: 4.5795 - val_accuracy: 0.6648\n",
      "Epoch 38/50\n",
      "625/625 [==============================] - 6s 10ms/step - loss: 0.0394 - accuracy: 0.9849 - val_loss: 4.6105 - val_accuracy: 0.6646\n",
      "Epoch 39/50\n",
      "625/625 [==============================] - 7s 11ms/step - loss: 0.0371 - accuracy: 0.9851 - val_loss: 4.6815 - val_accuracy: 0.6664\n",
      "Epoch 40/50\n",
      "625/625 [==============================] - 6s 10ms/step - loss: 0.0357 - accuracy: 0.9862 - val_loss: 4.8249 - val_accuracy: 0.6628\n",
      "Epoch 41/50\n",
      "625/625 [==============================] - 6s 10ms/step - loss: 0.0374 - accuracy: 0.9851 - val_loss: 4.8175 - val_accuracy: 0.6638\n",
      "Epoch 42/50\n",
      "625/625 [==============================] - 7s 11ms/step - loss: 0.0342 - accuracy: 0.9865 - val_loss: 4.9275 - val_accuracy: 0.6642\n",
      "Epoch 43/50\n",
      "625/625 [==============================] - 7s 11ms/step - loss: 0.0346 - accuracy: 0.9870 - val_loss: 5.0209 - val_accuracy: 0.6582\n",
      "Epoch 44/50\n",
      "625/625 [==============================] - 7s 11ms/step - loss: 0.0345 - accuracy: 0.9870 - val_loss: 5.0826 - val_accuracy: 0.6598\n",
      "Epoch 45/50\n",
      "625/625 [==============================] - 6s 10ms/step - loss: 0.0338 - accuracy: 0.9867 - val_loss: 5.1981 - val_accuracy: 0.6648\n",
      "Epoch 46/50\n",
      "625/625 [==============================] - 7s 11ms/step - loss: 0.0310 - accuracy: 0.9887 - val_loss: 5.2370 - val_accuracy: 0.6626\n",
      "Epoch 47/50\n",
      "625/625 [==============================] - 7s 11ms/step - loss: 0.0321 - accuracy: 0.9886 - val_loss: 5.2591 - val_accuracy: 0.6590\n",
      "Epoch 48/50\n",
      "625/625 [==============================] - 7s 10ms/step - loss: 0.0297 - accuracy: 0.9883 - val_loss: 5.4482 - val_accuracy: 0.6600\n",
      "Epoch 49/50\n",
      "625/625 [==============================] - 7s 11ms/step - loss: 0.0294 - accuracy: 0.9892 - val_loss: 5.4751 - val_accuracy: 0.6632\n",
      "Epoch 50/50\n",
      "625/625 [==============================] - 6s 10ms/step - loss: 0.0280 - accuracy: 0.9904 - val_loss: 5.4744 - val_accuracy: 0.6592\n"
     ]
    }
   ],
   "source": [
    "model = tf.keras.models.Sequential(\n",
    "        [\n",
    "            tf.keras.layers.Embedding(29000,13),\n",
    "            tf.keras.layers.GlobalAveragePooling1D(),##cela fait le moyenne des embeding pour cahque phrase\n",
    "            \n",
    "            ##Denses\n",
    "            tf.keras.layers.Dense(64,activation='relu'),\n",
    "             tf.keras.layers.Dropout(0.6),\n",
    "            tf.keras.layers.Dense(1,activation='sigmoid'),\n",
    "            \n",
    "        ])\n",
    "model.compile(loss='binary_crossentropy', optimizer='adam', metrics=['accuracy'])\n",
    "\n",
    "h=model.fit(training_padded, training_labels,epochs=50,validation_data=(test_padded,test_labels))"
   ]
  },
  {
   "cell_type": "code",
   "execution_count": 157,
   "id": "e29abcbc",
   "metadata": {},
   "outputs": [
    {
     "data": {
      "image/png": "[encoded data removed]",
      "text/plain": [
       "<Figure size 640x480 with 1 Axes>"
      ]
     },
     "metadata": {},
     "output_type": "display_data"
    }
   ],
   "source": [
    "plot_graph(h,'accuracy')"
   ]
  },
  {
   "cell_type": "code",
   "execution_count": null,
   "id": "793cdb8f",
   "metadata": {},
   "outputs": [],
   "source": []
  }
 ],
 "metadata": {
  "kernelspec": {
   "display_name": "Python 3 (ipykernel)",
   "language": "python",
   "name": "python3"
  },
  "language_info": {
   "codemirror_mode": {
    "name": "ipython",
    "version": 3
   },
   "file_extension": ".py",
   "mimetype": "text/x-python",
   "name": "python",
   "nbconvert_exporter": "python",
   "pygments_lexer": "ipython3",
   "version": "3.10.9"
  }
 },
 "nbformat": 4,
 "nbformat_minor": 5
}
