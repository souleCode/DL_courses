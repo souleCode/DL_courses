{
 "cells": [
  {
   "cell_type": "code",
   "execution_count": 4,
   "id": "3dcdb6bd",
   "metadata": {},
   "outputs": [],
   "source": [
    "import tensorflow as tf\n",
    "import numpy as np"
   ]
  },
  {
   "cell_type": "code",
   "execution_count": 5,
   "id": "1dc04244",
   "metadata": {},
   "outputs": [],
   "source": [
    "data = tf.keras.datasets.fashion_mnist\n",
    "(training_images,training_labels),(test_images,test_labels)=data.load_data()"
   ]
  },
  {
   "cell_type": "code",
   "execution_count": 3,
   "id": "353d18f7",
   "metadata": {},
   "outputs": [],
   "source": [
    "## One hot ecoding and normalization"
   ]
  },
  {
   "cell_type": "code",
   "execution_count": 4,
   "id": "c0eac267",
   "metadata": {},
   "outputs": [],
   "source": [
    "training_images = training_images/255.0\n",
    "test_images = test_images/255.0"
   ]
  },
  {
   "cell_type": "code",
   "execution_count": 5,
   "id": "42c28993",
   "metadata": {},
   "outputs": [],
   "source": [
    "training_labels = tf.keras.utils.to_categorical(training_labels)\n",
    "test_labels = tf.keras.utils.to_categorical(test_labels)"
   ]
  },
  {
   "cell_type": "code",
   "execution_count": 6,
   "id": "145451fb",
   "metadata": {},
   "outputs": [
    {
     "data": {
      "text/plain": [
       "(60000, 28, 28)"
      ]
     },
     "execution_count": 6,
     "metadata": {},
     "output_type": "execute_result"
    }
   ],
   "source": [
    "training_images.shape"
   ]
  },
  {
   "cell_type": "code",
   "execution_count": 7,
   "id": "9ee8066c",
   "metadata": {},
   "outputs": [],
   "source": [
    "training_images = training_images.reshape(60000,28,28,1)"
   ]
  },
  {
   "cell_type": "code",
   "execution_count": 8,
   "id": "5e16d79a",
   "metadata": {},
   "outputs": [
    {
     "data": {
      "text/plain": [
       "(60000, 28, 28, 1)"
      ]
     },
     "execution_count": 8,
     "metadata": {},
     "output_type": "execute_result"
    }
   ],
   "source": [
    "training_images.shape"
   ]
  },
  {
   "cell_type": "code",
   "execution_count": 9,
   "id": "0f009bc1",
   "metadata": {},
   "outputs": [
    {
     "data": {
      "text/plain": [
       "(10000, 28, 28)"
      ]
     },
     "execution_count": 9,
     "metadata": {},
     "output_type": "execute_result"
    }
   ],
   "source": [
    "test_images.shape"
   ]
  },
  {
   "cell_type": "code",
   "execution_count": 10,
   "id": "b34f6813",
   "metadata": {},
   "outputs": [],
   "source": [
    "test_images = test_images.reshape(10000,28,28,1)"
   ]
  },
  {
   "cell_type": "code",
   "execution_count": 11,
   "id": "32203ffb",
   "metadata": {},
   "outputs": [
    {
     "data": {
      "text/plain": [
       "(10000, 28, 28, 1)"
      ]
     },
     "execution_count": 11,
     "metadata": {},
     "output_type": "execute_result"
    }
   ],
   "source": [
    "test_images.shape"
   ]
  },
  {
   "cell_type": "code",
   "execution_count": 12,
   "id": "1ea6534b",
   "metadata": {},
   "outputs": [],
   "source": [
    "## Modeling"
   ]
  },
  {
   "cell_type": "code",
   "execution_count": 6,
   "id": "79b7d5f8",
   "metadata": {},
   "outputs": [],
   "source": [
    "from tensorflow.keras.models import Sequential\n",
    "from tensorflow.keras.layers import Dense\n",
    "from tensorflow.keras.optimizers import SGD"
   ]
  },
  {
   "cell_type": "code",
   "execution_count": 14,
   "id": "bfc89ebd",
   "metadata": {},
   "outputs": [],
   "source": [
    "model = Sequential([ \n",
    "    \n",
    "                #extraction de caracteristiques\n",
    "    \n",
    "                tf.keras.layers.Conv2D(filters=64,kernel_size=(3,3),padding='same',activation='relu',input_shape=(28,28,1)),\n",
    "                tf.keras.layers.MaxPooling2D(2,2),\n",
    "                tf.keras.layers.Conv2D(filters=64,kernel_size=(3,3),activation='relu'),\n",
    "                tf.keras.layers.MaxPooling2D(2,2),\n",
    "                \n",
    "                #flatten\n",
    "                  tf.keras.layers.Flatten(),  \n",
    "                    #dense\n",
    "                    Dense(units=128,activation='relu'),\n",
    "                    Dense(units=10,activation='softmax')\n",
    "                    \n",
    "                   ])"
   ]
  },
  {
   "cell_type": "code",
   "execution_count": 15,
   "id": "62e08f81",
   "metadata": {},
   "outputs": [
    {
     "name": "stdout",
     "output_type": "stream",
     "text": [
      "Model: \"sequential\"\n",
      "_________________________________________________________________\n",
      " Layer (type)                Output Shape              Param #   \n",
      "=================================================================\n",
      " conv2d (Conv2D)             (None, 28, 28, 64)        640       \n",
      "                                                                 \n",
      " max_pooling2d (MaxPooling2  (None, 14, 14, 64)        0         \n",
      " D)                                                              \n",
      "                                                                 \n",
      " conv2d_1 (Conv2D)           (None, 12, 12, 64)        36928     \n",
      "                                                                 \n",
      " max_pooling2d_1 (MaxPoolin  (None, 6, 6, 64)          0         \n",
      " g2D)                                                            \n",
      "                                                                 \n",
      " flatten (Flatten)           (None, 2304)              0         \n",
      "                                                                 \n",
      " dense (Dense)               (None, 128)               295040    \n",
      "                                                                 \n",
      " dense_1 (Dense)             (None, 10)                1290      \n",
      "                                                                 \n",
      "=================================================================\n",
      "Total params: 333898 (1.27 MB)\n",
      "Trainable params: 333898 (1.27 MB)\n",
      "Non-trainable params: 0 (0.00 Byte)\n",
      "_________________________________________________________________\n"
     ]
    }
   ],
   "source": [
    "model.summary()"
   ]
  },
  {
   "cell_type": "code",
   "execution_count": 16,
   "id": "bae26c89",
   "metadata": {},
   "outputs": [
    {
     "name": "stdout",
     "output_type": "stream",
     "text": [
      "You must install pydot (`pip install pydot`) and install graphviz (see instructions at https://graphviz.gitlab.io/download/) for plot_model to work.\n"
     ]
    }
   ],
   "source": [
    "tf.keras.utils.plot_model(model)"
   ]
  },
  {
   "cell_type": "code",
   "execution_count": 17,
   "id": "9a9ec952",
   "metadata": {},
   "outputs": [
    {
     "name": "stdout",
     "output_type": "stream",
     "text": [
      "Requirement already satisfied: pydot in c:\\users\\dell\\anaconda3\\lib\\site-packages (1.4.2)\n",
      "Requirement already satisfied: pyparsing>=2.1.4 in c:\\users\\dell\\appdata\\roaming\\python\\python310\\site-packages (from pydot) (3.0.9)\n"
     ]
    }
   ],
   "source": [
    "!pip install pydot"
   ]
  },
  {
   "cell_type": "code",
   "execution_count": 18,
   "id": "5b749b8e",
   "metadata": {},
   "outputs": [
    {
     "name": "stdout",
     "output_type": "stream",
     "text": [
      "Requirement already satisfied: graphviz in c:\\users\\dell\\anaconda3\\lib\\site-packages (0.20.1)\n"
     ]
    }
   ],
   "source": [
    "!pip install graphviz "
   ]
  },
  {
   "cell_type": "code",
   "execution_count": 19,
   "id": "53e686d8",
   "metadata": {},
   "outputs": [
    {
     "name": "stdout",
     "output_type": "stream",
     "text": [
      "You must install pydot (`pip install pydot`) and install graphviz (see instructions at https://graphviz.gitlab.io/download/) for plot_model to work.\n"
     ]
    }
   ],
   "source": [
    "tf.keras.utils.plot_model(model)"
   ]
  },
  {
   "cell_type": "code",
   "execution_count": 20,
   "id": "a7f380fe",
   "metadata": {},
   "outputs": [],
   "source": [
    "# Entrainment du model CNN"
   ]
  },
  {
   "cell_type": "code",
   "execution_count": 32,
   "id": "798546c0",
   "metadata": {},
   "outputs": [],
   "source": [
    "model_ckp = tf.keras.callbacks.ModelCheckpoint(filepath='best_model.keras',\n",
    "                                              monitor='val_accuracy',\n",
    "                                               mode='max',\n",
    "                                               save_best_only=True\n",
    "                                              )\n",
    "stop= tf.keras.callbacks.EarlyStopping(monitor='val_accuracy',patience=1)"
   ]
  },
  {
   "cell_type": "code",
   "execution_count": null,
   "id": "e040da33",
   "metadata": {},
   "outputs": [],
   "source": []
  },
  {
   "cell_type": "code",
   "execution_count": 34,
   "id": "ea1f7fab",
   "metadata": {},
   "outputs": [
    {
     "name": "stdout",
     "output_type": "stream",
     "text": [
      "Epoch 1/5\n",
      "1875/1875 [==============================] - 128s 68ms/step - loss: 0.2608 - accuracy: 0.9042 - val_loss: 0.3001 - val_accuracy: 0.8909\n",
      "Epoch 2/5\n",
      "1875/1875 [==============================] - 127s 68ms/step - loss: 0.2255 - accuracy: 0.9162 - val_loss: 0.2958 - val_accuracy: 0.8964\n",
      "Epoch 3/5\n",
      "1875/1875 [==============================] - 127s 68ms/step - loss: 0.2043 - accuracy: 0.9233 - val_loss: 0.2892 - val_accuracy: 0.9032\n",
      "Epoch 4/5\n",
      "1875/1875 [==============================] - 123s 66ms/step - loss: 0.1903 - accuracy: 0.9292 - val_loss: 0.3058 - val_accuracy: 0.8988\n",
      "Epoch 5/5\n",
      "1875/1875 [==============================] - 118s 63ms/step - loss: 0.1724 - accuracy: 0.9345 - val_loss: 0.3033 - val_accuracy: 0.9091\n"
     ]
    }
   ],
   "source": [
    "model.compile(optimizer='adam',loss='categorical_crossentropy',metrics='accuracy')\n",
    "h = model.fit(training_images,training_labels,epochs=5,\n",
    "              validation_data=(test_images,test_labels),\n",
    "             \n",
    "             )"
   ]
  },
  {
   "cell_type": "code",
   "execution_count": 21,
   "id": "02b554e7",
   "metadata": {},
   "outputs": [],
   "source": [
    "import matplotlib.pyplot as plt\n",
    "def plot_loss_curve(history):\n",
    "    \n",
    "    plt.plot(list(range(len(history['loss']))),history['loss'],label='training_loss')\n",
    "    plt.plot(list(range(len(history['val_loss']))),history['val_loss'],label='test_val_loss')\n",
    "    plt.xlabel('Epochs')\n",
    "    plt.ylabel('loss')\n",
    "    plt.title('Loss_curve')\n",
    "    plt.legend(loc='upper right')\n",
    "    plt.show()\n",
    "    \n",
    "    \n",
    "def plot_accuracy_curve(history):\n",
    "    \n",
    "    plt.plot(list(range(len(history['accuracy']))),history['accuracy'],label='trainin_accuracy')\n",
    "    plt.plot(list(range(len(history['val_accuracy']))),history['val_accuracy'],label='test_accuracy')\n",
    "    plt.xlabel('Epochs')\n",
    "    plt.ylabel('accuracy')\n",
    "    plt.title('accuracy_curve')\n",
    "    plt.legend(loc='upper left')\n",
    "    plt.show()    "
   ]
  },
  {
   "cell_type": "code",
   "execution_count": 39,
   "id": "995e28c1",
   "metadata": {},
   "outputs": [
    {
     "data": {
      "image/png": "[encoded data removed]",
      "text/plain": [
       "<Figure size 640x480 with 1 Axes>"
      ]
     },
     "metadata": {},
     "output_type": "display_data"
    },
    {
     "data": {
      "image/png": "[encoded data removed]",
      "text/plain": [
       "<Figure size 640x480 with 1 Axes>"
      ]
     },
     "metadata": {},
     "output_type": "display_data"
    }
   ],
   "source": [
    "plot_loss_curve(h.history)\n",
    "plot_accuracy_curve(h.history)"
   ]
  },
  {
   "cell_type": "code",
   "execution_count": 40,
   "id": "a0ed26ca",
   "metadata": {},
   "outputs": [],
   "source": [
    "## Reduisons le overfiting"
   ]
  },
  {
   "cell_type": "code",
   "execution_count": 67,
   "id": "4e2f8283",
   "metadata": {},
   "outputs": [
    {
     "name": "stdout",
     "output_type": "stream",
     "text": [
      "Epoch 1/20\n",
      "1875/1875 [==============================] - ETA: 0s - loss: 0.9793 - accuracy: 0.7576"
     ]
    },
    {
     "ename": "ValueError",
     "evalue": "Data cardinality is ambiguous:\n  x sizes: 1\n  y sizes: 10000\nMake sure all arrays contain the same number of samples.",
     "output_type": "error",
     "traceback": [
      "\u001b[1;31m---------------------------------------------------------------------------\u001b[0m",
      "\u001b[1;31mValueError\u001b[0m                                Traceback (most recent call last)",
      "Cell \u001b[1;32mIn[67], line 22\u001b[0m\n\u001b[0;32m      1\u001b[0m model \u001b[38;5;241m=\u001b[39m Sequential([ \n\u001b[0;32m      2\u001b[0m     \n\u001b[0;32m      3\u001b[0m                 \u001b[38;5;66;03m#extraction de caracteristiques\u001b[39;00m\n\u001b[1;32m   (...)\u001b[0m\n\u001b[0;32m     18\u001b[0m                     \n\u001b[0;32m     19\u001b[0m                    ])\n\u001b[0;32m     21\u001b[0m model\u001b[38;5;241m.\u001b[39mcompile(optimizer\u001b[38;5;241m=\u001b[39m\u001b[38;5;124m'\u001b[39m\u001b[38;5;124madam\u001b[39m\u001b[38;5;124m'\u001b[39m,loss\u001b[38;5;241m=\u001b[39m\u001b[38;5;124m'\u001b[39m\u001b[38;5;124mcategorical_crossentropy\u001b[39m\u001b[38;5;124m'\u001b[39m,metrics\u001b[38;5;241m=\u001b[39m\u001b[38;5;124m'\u001b[39m\u001b[38;5;124maccuracy\u001b[39m\u001b[38;5;124m'\u001b[39m)\n\u001b[1;32m---> 22\u001b[0m h \u001b[38;5;241m=\u001b[39m \u001b[43mmodel\u001b[49m\u001b[38;5;241;43m.\u001b[39;49m\u001b[43mfit\u001b[49m\u001b[43m(\u001b[49m\u001b[43mtraining_images\u001b[49m\u001b[43m,\u001b[49m\u001b[43mtraining_labels\u001b[49m\u001b[43m,\u001b[49m\u001b[43mepochs\u001b[49m\u001b[38;5;241;43m=\u001b[39;49m\u001b[38;5;241;43m20\u001b[39;49m\u001b[43m,\u001b[49m\n\u001b[0;32m     23\u001b[0m \u001b[43m              \u001b[49m\u001b[43mvalidation_data\u001b[49m\u001b[38;5;241;43m=\u001b[39;49m\u001b[43m(\u001b[49m\u001b[43mtest_images\u001b[49m\u001b[43m,\u001b[49m\u001b[43mtest_labels\u001b[49m\u001b[43m)\u001b[49m\u001b[43m,\u001b[49m\n\u001b[0;32m     24\u001b[0m \u001b[43m             \u001b[49m\n\u001b[0;32m     25\u001b[0m \u001b[43m             \u001b[49m\u001b[43m)\u001b[49m\n",
      "File \u001b[1;32m~\\AppData\\Roaming\\Python\\Python310\\site-packages\\keras\\src\\utils\\traceback_utils.py:70\u001b[0m, in \u001b[0;36mfilter_traceback.<locals>.error_handler\u001b[1;34m(*args, **kwargs)\u001b[0m\n\u001b[0;32m     67\u001b[0m     filtered_tb \u001b[38;5;241m=\u001b[39m _process_traceback_frames(e\u001b[38;5;241m.\u001b[39m__traceback__)\n\u001b[0;32m     68\u001b[0m     \u001b[38;5;66;03m# To get the full stack trace, call:\u001b[39;00m\n\u001b[0;32m     69\u001b[0m     \u001b[38;5;66;03m# `tf.debugging.disable_traceback_filtering()`\u001b[39;00m\n\u001b[1;32m---> 70\u001b[0m     \u001b[38;5;28;01mraise\u001b[39;00m e\u001b[38;5;241m.\u001b[39mwith_traceback(filtered_tb) \u001b[38;5;28;01mfrom\u001b[39;00m \u001b[38;5;28mNone\u001b[39m\n\u001b[0;32m     71\u001b[0m \u001b[38;5;28;01mfinally\u001b[39;00m:\n\u001b[0;32m     72\u001b[0m     \u001b[38;5;28;01mdel\u001b[39;00m filtered_tb\n",
      "File \u001b[1;32m~\\AppData\\Roaming\\Python\\Python310\\site-packages\\keras\\src\\engine\\data_adapter.py:1950\u001b[0m, in \u001b[0;36m_check_data_cardinality\u001b[1;34m(data)\u001b[0m\n\u001b[0;32m   1943\u001b[0m     msg \u001b[38;5;241m+\u001b[39m\u001b[38;5;241m=\u001b[39m \u001b[38;5;124m\"\u001b[39m\u001b[38;5;124m  \u001b[39m\u001b[38;5;132;01m{}\u001b[39;00m\u001b[38;5;124m sizes: \u001b[39m\u001b[38;5;132;01m{}\u001b[39;00m\u001b[38;5;130;01m\\n\u001b[39;00m\u001b[38;5;124m\"\u001b[39m\u001b[38;5;241m.\u001b[39mformat(\n\u001b[0;32m   1944\u001b[0m         label,\n\u001b[0;32m   1945\u001b[0m         \u001b[38;5;124m\"\u001b[39m\u001b[38;5;124m, \u001b[39m\u001b[38;5;124m\"\u001b[39m\u001b[38;5;241m.\u001b[39mjoin(\n\u001b[0;32m   1946\u001b[0m             \u001b[38;5;28mstr\u001b[39m(i\u001b[38;5;241m.\u001b[39mshape[\u001b[38;5;241m0\u001b[39m]) \u001b[38;5;28;01mfor\u001b[39;00m i \u001b[38;5;129;01min\u001b[39;00m tf\u001b[38;5;241m.\u001b[39mnest\u001b[38;5;241m.\u001b[39mflatten(single_data)\n\u001b[0;32m   1947\u001b[0m         ),\n\u001b[0;32m   1948\u001b[0m     )\n\u001b[0;32m   1949\u001b[0m msg \u001b[38;5;241m+\u001b[39m\u001b[38;5;241m=\u001b[39m \u001b[38;5;124m\"\u001b[39m\u001b[38;5;124mMake sure all arrays contain the same number of samples.\u001b[39m\u001b[38;5;124m\"\u001b[39m\n\u001b[1;32m-> 1950\u001b[0m \u001b[38;5;28;01mraise\u001b[39;00m \u001b[38;5;167;01mValueError\u001b[39;00m(msg)\n",
      "\u001b[1;31mValueError\u001b[0m: Data cardinality is ambiguous:\n  x sizes: 1\n  y sizes: 10000\nMake sure all arrays contain the same number of samples."
     ]
    }
   ],
   "source": [
    "model = Sequential([ \n",
    "    \n",
    "                #extraction de caracteristiques\n",
    "    \n",
    "                tf.keras.layers.Conv2D(filters=64,kernel_size=(3,3),padding='same',activation='relu',input_shape=(28,28,1)),\n",
    "                tf.keras.layers.Dropout(0.6), # premier dropout\n",
    "                tf.keras.layers.MaxPooling2D(2,2),\n",
    "                tf.keras.layers.Conv2D(filters=64,kernel_size=(3,3),activation='relu'),\n",
    "                tf.keras.layers.Dropout(0.4), # deuxieme dropout\n",
    "                tf.keras.layers.MaxPooling2D(2,2),\n",
    "                \n",
    "                #flatten\n",
    "                  tf.keras.layers.Flatten(),  \n",
    "                    #dense\n",
    "                    Dense(units=128,activation='relu'),\n",
    "                    tf.keras.layers.Dropout(0.2),\n",
    "                    Dense(units=2,activation='sigmoid')\n",
    "                    \n",
    "                   ])\n",
    "    \n",
    "model.compile(optimizer='adam',loss='categorical_crossentropy',metrics='accuracy')\n",
    "h = model.fit(training_images,training_labels,epochs=20,\n",
    "              validation_data=(test_images,test_labels),\n",
    "             \n",
    "             )"
   ]
  },
  {
   "cell_type": "code",
   "execution_count": 47,
   "id": "3f25036d",
   "metadata": {},
   "outputs": [
    {
     "data": {
      "image/png": "[encoded data removed]",
      "text/plain": [
       "<Figure size 640x480 with 1 Axes>"
      ]
     },
     "metadata": {},
     "output_type": "display_data"
    },
    {
     "data": {
      "image/png": "[encoded data removed]",
      "text/plain": [
       "<Figure size 640x480 with 1 Axes>"
      ]
     },
     "metadata": {},
     "output_type": "display_data"
    }
   ],
   "source": [
    "plot_loss_curve(h.history)\n",
    "plot_accuracy_curve(h.history)"
   ]
  },
  {
   "cell_type": "code",
   "execution_count": 7,
   "id": "7c790e9c",
   "metadata": {},
   "outputs": [],
   "source": [
    "import os"
   ]
  },
  {
   "cell_type": "code",
   "execution_count": 8,
   "id": "840ee246",
   "metadata": {},
   "outputs": [],
   "source": [
    "data_dir = 'DATASET'"
   ]
  },
  {
   "cell_type": "code",
   "execution_count": 9,
   "id": "c15f68f8",
   "metadata": {},
   "outputs": [],
   "source": [
    "train_dir = os.path.join(data_dir,\"TRAIN\")\n",
    "test_dir = os.path.join(data_dir,\"TEST\")\n"
   ]
  },
  {
   "cell_type": "code",
   "execution_count": 10,
   "id": "12c27568",
   "metadata": {},
   "outputs": [
    {
     "data": {
      "text/plain": [
       "['O', 'R']"
      ]
     },
     "execution_count": 10,
     "metadata": {},
     "output_type": "execute_result"
    }
   ],
   "source": [
    "os.listdir(train_dir)"
   ]
  },
  {
   "cell_type": "code",
   "execution_count": 11,
   "id": "7dd72186",
   "metadata": {},
   "outputs": [],
   "source": [
    "train_r_dir = os.path.join(train_dir,\"R\")\n",
    "test_o_dir = os.path.join(test_dir,\"O\")"
   ]
  },
  {
   "cell_type": "code",
   "execution_count": 12,
   "id": "ac408d67",
   "metadata": {},
   "outputs": [
    {
     "data": {
      "text/plain": [
       "9999"
      ]
     },
     "execution_count": 12,
     "metadata": {},
     "output_type": "execute_result"
    }
   ],
   "source": [
    "\n",
    "len(os.listdir(train_r_dir))"
   ]
  },
  {
   "cell_type": "code",
   "execution_count": 13,
   "id": "9f2c12ff",
   "metadata": {},
   "outputs": [
    {
     "data": {
      "text/plain": [
       "1401"
      ]
     },
     "execution_count": 13,
     "metadata": {},
     "output_type": "execute_result"
    }
   ],
   "source": [
    "len(os.listdir(test_o_dir))"
   ]
  },
  {
   "cell_type": "code",
   "execution_count": 14,
   "id": "5378e53c",
   "metadata": {},
   "outputs": [],
   "source": [
    "## ImageDataGenerator pour rendre les choses plus facile a entrainer"
   ]
  },
  {
   "cell_type": "code",
   "execution_count": 15,
   "id": "a8d25374",
   "metadata": {},
   "outputs": [],
   "source": [
    "from tensorflow.keras.preprocessing.image import ImageDataGenerator"
   ]
  },
  {
   "cell_type": "code",
   "execution_count": 16,
   "id": "e6883fd2",
   "metadata": {},
   "outputs": [],
   "source": [
    "train_data_generator = ImageDataGenerator(rescale =1/255.0)\n",
    "test_data_generator = ImageDataGenerator(rescale =1/255.0)"
   ]
  },
  {
   "cell_type": "code",
   "execution_count": 17,
   "id": "e3bf560e",
   "metadata": {},
   "outputs": [
    {
     "name": "stdout",
     "output_type": "stream",
     "text": [
      "Found 22564 images belonging to 2 classes.\n",
      "Found 2513 images belonging to 2 classes.\n"
     ]
    }
   ],
   "source": [
    "train_generator = train_data_generator.flow_from_directory(\n",
    "                   directory = train_dir,\n",
    "                    target_size= (224,224),\n",
    "                       batch_size =32,\n",
    "                       class_mode='binary' \n",
    "\n",
    ")\n",
    "\n",
    "test_generator = test_data_generator.flow_from_directory(\n",
    "                   directory = test_dir,\n",
    "                    target_size= (224,224),\n",
    "                       batch_size =32,\n",
    "                       class_mode='binary' \n",
    "\n",
    ")"
   ]
  },
  {
   "cell_type": "code",
   "execution_count": null,
   "id": "6fda6ce8",
   "metadata": {},
   "outputs": [],
   "source": []
  },
  {
   "cell_type": "code",
   "execution_count": null,
   "id": "5ae377da",
   "metadata": {},
   "outputs": [],
   "source": [
    "# Mais quelles sont les classes? On utilises la fonction class_indices "
   ]
  },
  {
   "cell_type": "code",
   "execution_count": 19,
   "id": "0bcf405c",
   "metadata": {},
   "outputs": [
    {
     "data": {
      "text/plain": [
       "{'O': 0, 'R': 1}"
      ]
     },
     "execution_count": 19,
     "metadata": {},
     "output_type": "execute_result"
    }
   ],
   "source": [
    "train_generator.class_indices\n"
   ]
  },
  {
   "cell_type": "code",
   "execution_count": 20,
   "id": "3e875bf2",
   "metadata": {},
   "outputs": [],
   "source": [
    "batch_images,batch_labels = next(iter(train_generator))\n",
    "batch_imagesT,batch_labelsT = next(iter(test_generator))"
   ]
  },
  {
   "cell_type": "code",
   "execution_count": 21,
   "id": "8b85655e",
   "metadata": {},
   "outputs": [
    {
     "data": {
      "text/plain": [
       "(32, 224, 224, 3)"
      ]
     },
     "execution_count": 21,
     "metadata": {},
     "output_type": "execute_result"
    }
   ],
   "source": [
    "batch_images.shape"
   ]
  },
  {
   "cell_type": "code",
   "execution_count": 22,
   "id": "4d5ab1b1",
   "metadata": {},
   "outputs": [
    {
     "data": {
      "text/plain": [
       "(32,)"
      ]
     },
     "execution_count": 22,
     "metadata": {},
     "output_type": "execute_result"
    }
   ],
   "source": [
    "batch_labels.shape"
   ]
  },
  {
   "cell_type": "code",
   "execution_count": 23,
   "id": "013ae3f0",
   "metadata": {},
   "outputs": [
    {
     "data": {
      "text/plain": [
       "(32, 224, 224, 3)"
      ]
     },
     "execution_count": 23,
     "metadata": {},
     "output_type": "execute_result"
    }
   ],
   "source": [
    "batch_imagesT.shape"
   ]
  },
  {
   "cell_type": "code",
   "execution_count": 24,
   "id": "43287f9d",
   "metadata": {},
   "outputs": [],
   "source": [
    " ## Entrainenment du model"
   ]
  },
  {
   "cell_type": "code",
   "execution_count": 25,
   "id": "095eb3d6",
   "metadata": {},
   "outputs": [
    {
     "name": "stdout",
     "output_type": "stream",
     "text": [
      "Epoch 1/10\n",
      "706/706 [==============================] - 10264s 15s/step - loss: 0.4328 - accuracy: 0.8129 - val_loss: 0.3347 - val_accuracy: 0.8886\n",
      "Epoch 2/10\n",
      "706/706 [==============================] - 1811s 3s/step - loss: 0.3627 - accuracy: 0.8519 - val_loss: 0.2906 - val_accuracy: 0.8810\n",
      "Epoch 3/10\n",
      "706/706 [==============================] - 1616s 2s/step - loss: 0.3325 - accuracy: 0.8682 - val_loss: 0.2235 - val_accuracy: 0.9140\n",
      "Epoch 4/10\n",
      "706/706 [==============================] - 1636s 2s/step - loss: 0.3128 - accuracy: 0.8765 - val_loss: 0.3293 - val_accuracy: 0.8651\n",
      "Epoch 5/10\n",
      "706/706 [==============================] - 1523s 2s/step - loss: 0.2864 - accuracy: 0.8848 - val_loss: 0.2276 - val_accuracy: 0.9184\n",
      "Epoch 6/10\n",
      "706/706 [==============================] - 1487s 2s/step - loss: 0.2634 - accuracy: 0.8996 - val_loss: 0.2596 - val_accuracy: 0.8977\n",
      "Epoch 7/10\n",
      "706/706 [==============================] - 1462s 2s/step - loss: 0.2358 - accuracy: 0.9068 - val_loss: 0.2492 - val_accuracy: 0.9148\n",
      "Epoch 8/10\n",
      "706/706 [==============================] - 1454s 2s/step - loss: 0.2027 - accuracy: 0.9219 - val_loss: 0.2501 - val_accuracy: 0.9180\n",
      "Epoch 9/10\n",
      "706/706 [==============================] - 1446s 2s/step - loss: 0.1706 - accuracy: 0.9352 - val_loss: 0.2737 - val_accuracy: 0.9248\n",
      "Epoch 10/10\n",
      "706/706 [==============================] - 1461s 2s/step - loss: 0.1367 - accuracy: 0.9468 - val_loss: 0.3043 - val_accuracy: 0.9144\n"
     ]
    }
   ],
   "source": [
    "model = Sequential([ \n",
    "    \n",
    "                #extraction de caracteristiques\n",
    "    \n",
    "                tf.keras.layers.Conv2D(filters=32,kernel_size=(3,3),padding='same',activation='relu',input_shape=(224,224,3)),\n",
    "                # premier dropout\n",
    "                tf.keras.layers.MaxPooling2D(2,2),\n",
    "                tf.keras.layers.Conv2D(filters=64,kernel_size=(3,3),activation='relu'),\n",
    "                 # deuxieme dropout\n",
    "                tf.keras.layers.MaxPooling2D(2,2),\n",
    "                 tf.keras.layers.Conv2D(filters=128,kernel_size=(3,3),activation='relu'),\n",
    "                 # deuxieme dropout\n",
    "                tf.keras.layers.MaxPooling2D(2,2),\n",
    "                 tf.keras.layers.Conv2D(filters=128,kernel_size=(3,3),activation='relu'),\n",
    "               # deuxieme dropout\n",
    "                tf.keras.layers.MaxPooling2D(2,2),\n",
    "                \n",
    "                #flatten\n",
    "                  tf.keras.layers.Flatten(),  \n",
    "                    #dense\n",
    "                    Dense(units=128,activation='relu'),\n",
    "                    tf.keras.layers.Dropout(0.4),\n",
    "                    Dense(units=1,activation='sigmoid')\n",
    "                    \n",
    "                   ])\n",
    "    \n",
    "model.compile(optimizer='adam',loss='binary_crossentropy',metrics='accuracy')\n",
    "h = model.fit(train_generator,epochs=10,\n",
    "              validation_data=test_generator,\n",
    "             \n",
    "             )"
   ]
  },
  {
   "cell_type": "markdown",
   "id": "bf93729e",
   "metadata": {},
   "source": [
    "model.summary()"
   ]
  },
  {
   "cell_type": "code",
   "execution_count": 27,
   "id": "366dbc64",
   "metadata": {},
   "outputs": [],
   "source": [
    "model.save('poubelle_model.keras')"
   ]
  },
  {
   "cell_type": "code",
   "execution_count": 28,
   "id": "7aa40fa1",
   "metadata": {},
   "outputs": [],
   "source": [
    "from keras.models import load_model\n",
    "\n",
    "loaded_model = load_model('poubelle_model.keras')\n"
   ]
  },
  {
   "cell_type": "code",
   "execution_count": 29,
   "id": "4a1de233",
   "metadata": {},
   "outputs": [
    {
     "name": "stdout",
     "output_type": "stream",
     "text": [
      "79/79 [==============================] - 41s 493ms/step - loss: 0.3043 - accuracy: 0.9144\n"
     ]
    },
    {
     "data": {
      "text/plain": [
       "[0.30431634187698364, 0.9144448637962341]"
      ]
     },
     "execution_count": 29,
     "metadata": {},
     "output_type": "execute_result"
    }
   ],
   "source": [
    "loaded_model.evaluate(test_generator)"
   ]
  },
  {
   "cell_type": "code",
   "execution_count": 26,
   "id": "e0daca84",
   "metadata": {},
   "outputs": [
    {
     "name": "stdout",
     "output_type": "stream",
     "text": [
      "Model: \"sequential\"\n",
      "_________________________________________________________________\n",
      " Layer (type)                Output Shape              Param #   \n",
      "=================================================================\n",
      " conv2d (Conv2D)             (None, 224, 224, 32)      896       \n",
      "                                                                 \n",
      " max_pooling2d (MaxPooling2  (None, 112, 112, 32)      0         \n",
      " D)                                                              \n",
      "                                                                 \n",
      " conv2d_1 (Conv2D)           (None, 110, 110, 64)      18496     \n",
      "                                                                 \n",
      " max_pooling2d_1 (MaxPoolin  (None, 55, 55, 64)        0         \n",
      " g2D)                                                            \n",
      "                                                                 \n",
      " conv2d_2 (Conv2D)           (None, 53, 53, 128)       73856     \n",
      "                                                                 \n",
      " max_pooling2d_2 (MaxPoolin  (None, 26, 26, 128)       0         \n",
      " g2D)                                                            \n",
      "                                                                 \n",
      " conv2d_3 (Conv2D)           (None, 24, 24, 128)       147584    \n",
      "                                                                 \n",
      " max_pooling2d_3 (MaxPoolin  (None, 12, 12, 128)       0         \n",
      " g2D)                                                            \n",
      "                                                                 \n",
      " flatten (Flatten)           (None, 18432)             0         \n",
      "                                                                 \n",
      " dense (Dense)               (None, 128)               2359424   \n",
      "                                                                 \n",
      " dropout (Dropout)           (None, 128)               0         \n",
      "                                                                 \n",
      " dense_1 (Dense)             (None, 1)                 129       \n",
      "                                                                 \n",
      "=================================================================\n",
      "Total params: 2600385 (9.92 MB)\n",
      "Trainable params: 2600385 (9.92 MB)\n",
      "Non-trainable params: 0 (0.00 Byte)\n",
      "_________________________________________________________________\n"
     ]
    }
   ],
   "source": [
    "model.summary()"
   ]
  },
  {
   "cell_type": "code",
   "execution_count": null,
   "id": "65b701b6",
   "metadata": {},
   "outputs": [],
   "source": []
  }
 ],
 "metadata": {
  "kernelspec": {
   "display_name": "Python 3 (ipykernel)",
   "language": "python",
   "name": "python3"
  },
  "language_info": {
   "codemirror_mode": {
    "name": "ipython",
    "version": 3
   },
   "file_extension": ".py",
   "mimetype": "text/x-python",
   "name": "python",
   "nbconvert_exporter": "python",
   "pygments_lexer": "ipython3",
   "version": "3.10.9"
  }
 },
 "nbformat": 4,
 "nbformat_minor": 5
}
