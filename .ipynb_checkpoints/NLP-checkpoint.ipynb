{
 "cells": [
  {
   "cell_type": "code",
   "execution_count": 4,
   "id": "f8ee5572",
   "metadata": {},
   "outputs": [],
   "source": [
    "import tensorflow as tf\n"
   ]
  },
  {
   "cell_type": "code",
   "execution_count": null,
   "id": "e5f77214",
   "metadata": {},
   "outputs": [],
   "source": []
  },
  {
   "cell_type": "code",
   "execution_count": 9,
   "id": "01f1a34b",
   "metadata": {},
   "outputs": [],
   "source": []
  },
  {
   "cell_type": "code",
   "execution_count": 12,
   "id": "e19fa1b4",
   "metadata": {},
   "outputs": [
    {
     "name": "stderr",
     "output_type": "stream",
     "text": [
      "WARNING: Ignoring invalid distribution -rotobuf (c:\\users\\dell\\appdata\\roaming\\python\\python310\\site-packages)\n",
      "WARNING: Ignoring invalid distribution -rotobuf (c:\\users\\dell\\appdata\\roaming\\python\\python310\\site-packages)\n",
      "WARNING: Ignoring invalid distribution -rotobuf (c:\\users\\dell\\appdata\\roaming\\python\\python310\\site-packages)\n",
      "WARNING: Ignoring invalid distribution -rotobuf (c:\\users\\dell\\appdata\\roaming\\python\\python310\\site-packages)\n",
      "WARNING: Ignoring invalid distribution -rotobuf (c:\\users\\dell\\appdata\\roaming\\python\\python310\\site-packages)\n",
      "WARNING: Ignoring invalid distribution -rotobuf (c:\\users\\dell\\appdata\\roaming\\python\\python310\\site-packages)\n"
     ]
    },
    {
     "name": "stdout",
     "output_type": "stream",
     "text": [
      "Requirement already satisfied: tensorflow-datasets in c:\\users\\dell\\appdata\\roaming\\python\\python310\\site-packages (4.9.2)\n",
      "Requirement already satisfied: etils[enp,epath]>=0.9.0 in c:\\users\\dell\\appdata\\roaming\\python\\python310\\site-packages (from tensorflow-datasets) (1.4.1)\n",
      "Requirement already satisfied: psutil in c:\\users\\dell\\appdata\\roaming\\python\\python310\\site-packages (from tensorflow-datasets) (5.9.4)\n",
      "Requirement already satisfied: termcolor in c:\\users\\dell\\appdata\\roaming\\python\\python310\\site-packages (from tensorflow-datasets) (2.3.0)\n",
      "Requirement already satisfied: promise in c:\\users\\dell\\appdata\\roaming\\python\\python310\\site-packages (from tensorflow-datasets) (2.3)\n",
      "Requirement already satisfied: requests>=2.19.0 in c:\\users\\dell\\appdata\\roaming\\python\\python310\\site-packages (from tensorflow-datasets) (2.28.2)\n",
      "Requirement already satisfied: toml in c:\\users\\dell\\appdata\\roaming\\python\\python310\\site-packages (from tensorflow-datasets) (0.10.2)\n",
      "Requirement already satisfied: numpy in c:\\users\\dell\\appdata\\roaming\\python\\python310\\site-packages (from tensorflow-datasets) (1.24.2)\n",
      "Requirement already satisfied: tqdm in c:\\users\\dell\\anaconda3\\lib\\site-packages (from tensorflow-datasets) (4.64.1)\n",
      "Requirement already satisfied: tensorflow-metadata in c:\\users\\dell\\appdata\\roaming\\python\\python310\\site-packages (from tensorflow-datasets) (1.14.0)\n",
      "Requirement already satisfied: click in c:\\users\\dell\\appdata\\roaming\\python\\python310\\site-packages (from tensorflow-datasets) (8.1.3)\n",
      "Requirement already satisfied: dm-tree in c:\\users\\dell\\anaconda3\\lib\\site-packages (from tensorflow-datasets) (0.1.8)\n",
      "Requirement already satisfied: protobuf>=3.20 in c:\\users\\dell\\appdata\\roaming\\python\\python310\\site-packages (from tensorflow-datasets) (3.20.3)\n",
      "Requirement already satisfied: wrapt in c:\\users\\dell\\appdata\\roaming\\python\\python310\\site-packages (from tensorflow-datasets) (1.15.0)\n",
      "Requirement already satisfied: absl-py in c:\\users\\dell\\appdata\\roaming\\python\\python310\\site-packages (from tensorflow-datasets) (1.4.0)\n",
      "Requirement already satisfied: array-record in c:\\users\\dell\\appdata\\roaming\\python\\python310\\site-packages (from tensorflow-datasets) (0.4.1)\n",
      "Requirement already satisfied: zipp in c:\\users\\dell\\appdata\\roaming\\python\\python310\\site-packages (from etils[enp,epath]>=0.9.0->tensorflow-datasets) (3.15.0)\n",
      "Requirement already satisfied: importlib_resources in c:\\users\\dell\\appdata\\roaming\\python\\python310\\site-packages (from etils[enp,epath]>=0.9.0->tensorflow-datasets) (6.0.1)\n",
      "Requirement already satisfied: typing_extensions in c:\\users\\dell\\appdata\\roaming\\python\\python310\\site-packages (from etils[enp,epath]>=0.9.0->tensorflow-datasets) (4.5.0)\n",
      "Requirement already satisfied: urllib3<1.27,>=1.21.1 in c:\\users\\dell\\appdata\\roaming\\python\\python310\\site-packages (from requests>=2.19.0->tensorflow-datasets) (1.26.14)\n",
      "Requirement already satisfied: charset-normalizer<4,>=2 in c:\\users\\dell\\appdata\\roaming\\python\\python310\\site-packages (from requests>=2.19.0->tensorflow-datasets) (3.0.1)\n",
      "Requirement already satisfied: certifi>=2017.4.17 in c:\\users\\dell\\appdata\\roaming\\python\\python310\\site-packages (from requests>=2.19.0->tensorflow-datasets) (2022.12.7)\n",
      "Requirement already satisfied: idna<4,>=2.5 in c:\\users\\dell\\appdata\\roaming\\python\\python310\\site-packages (from requests>=2.19.0->tensorflow-datasets) (3.4)\n",
      "Requirement already satisfied: colorama in c:\\users\\dell\\appdata\\roaming\\python\\python310\\site-packages (from click->tensorflow-datasets) (0.4.6)\n",
      "Requirement already satisfied: six in c:\\users\\dell\\appdata\\roaming\\python\\python310\\site-packages (from promise->tensorflow-datasets) (1.16.0)\n",
      "Requirement already satisfied: googleapis-common-protos<2,>=1.52.0 in c:\\users\\dell\\appdata\\roaming\\python\\python310\\site-packages (from tensorflow-metadata->tensorflow-datasets) (1.60.0)\n"
     ]
    }
   ],
   "source": [
    "!pip install tensorflow-datasets --user\n",
    "\n"
   ]
  },
  {
   "cell_type": "code",
   "execution_count": 13,
   "id": "0f79fa8f",
   "metadata": {},
   "outputs": [],
   "source": [
    "import tensorflow_datasets as tfds"
   ]
  },
  {
   "cell_type": "code",
   "execution_count": 14,
   "id": "c82fc0b9",
   "metadata": {},
   "outputs": [],
   "source": [
    "imdb_sentences =[]\n",
    "imdb_labels=[]"
   ]
  },
  {
   "cell_type": "code",
   "execution_count": 15,
   "id": "c6fe86a8",
   "metadata": {},
   "outputs": [
    {
     "name": "stdout",
     "output_type": "stream",
     "text": [
      "\u001b[1mDownloading and preparing dataset Unknown size (download: Unknown size, generated: Unknown size, total: Unknown size) to C:\\Users\\DELL\\tensorflow_datasets\\imdb_reviews\\plain_text\\1.0.0...\u001b[0m\n"
     ]
    },
    {
     "data": {
      "application/vnd.jupyter.widget-view+json": {
       "model_id": "e9b5ba4fc2154984ab47dbc279b9b18b",
       "version_major": 2,
       "version_minor": 0
      },
      "text/plain": [
       "Dl Completed...: 0 url [00:00, ? url/s]"
      ]
     },
     "metadata": {},
     "output_type": "display_data"
    },
    {
     "data": {
      "application/vnd.jupyter.widget-view+json": {
       "model_id": "8a822e53d9614f36a62d011c247ae71e",
       "version_major": 2,
       "version_minor": 0
      },
      "text/plain": [
       "Dl Size...: 0 MiB [00:00, ? MiB/s]"
      ]
     },
     "metadata": {},
     "output_type": "display_data"
    },
    {
     "data": {
      "application/vnd.jupyter.widget-view+json": {
       "model_id": "",
       "version_major": 2,
       "version_minor": 0
      },
      "text/plain": [
       "Generating splits...:   0%|          | 0/3 [00:00<?, ? splits/s]"
      ]
     },
     "metadata": {},
     "output_type": "display_data"
    },
    {
     "data": {
      "application/vnd.jupyter.widget-view+json": {
       "model_id": "",
       "version_major": 2,
       "version_minor": 0
      },
      "text/plain": [
       "Generating train examples...: 0 examples [00:00, ? examples/s]"
      ]
     },
     "metadata": {},
     "output_type": "display_data"
    },
    {
     "data": {
      "application/vnd.jupyter.widget-view+json": {
       "model_id": "",
       "version_major": 2,
       "version_minor": 0
      },
      "text/plain": [
       "Shuffling C:\\Users\\DELL\\tensorflow_datasets\\imdb_reviews\\plain_text\\1.0.0.incompleteSHMT5S\\imdb_reviews-train.…"
      ]
     },
     "metadata": {},
     "output_type": "display_data"
    },
    {
     "data": {
      "application/vnd.jupyter.widget-view+json": {
       "model_id": "",
       "version_major": 2,
       "version_minor": 0
      },
      "text/plain": [
       "Generating test examples...: 0 examples [00:00, ? examples/s]"
      ]
     },
     "metadata": {},
     "output_type": "display_data"
    },
    {
     "data": {
      "application/vnd.jupyter.widget-view+json": {
       "model_id": "",
       "version_major": 2,
       "version_minor": 0
      },
      "text/plain": [
       "Shuffling C:\\Users\\DELL\\tensorflow_datasets\\imdb_reviews\\plain_text\\1.0.0.incompleteSHMT5S\\imdb_reviews-test.t…"
      ]
     },
     "metadata": {},
     "output_type": "display_data"
    },
    {
     "data": {
      "application/vnd.jupyter.widget-view+json": {
       "model_id": "",
       "version_major": 2,
       "version_minor": 0
      },
      "text/plain": [
       "Generating unsupervised examples...: 0 examples [00:00, ? examples/s]"
      ]
     },
     "metadata": {},
     "output_type": "display_data"
    },
    {
     "data": {
      "application/vnd.jupyter.widget-view+json": {
       "model_id": "",
       "version_major": 2,
       "version_minor": 0
      },
      "text/plain": [
       "Shuffling C:\\Users\\DELL\\tensorflow_datasets\\imdb_reviews\\plain_text\\1.0.0.incompleteSHMT5S\\imdb_reviews-unsupe…"
      ]
     },
     "metadata": {},
     "output_type": "display_data"
    },
    {
     "name": "stdout",
     "output_type": "stream",
     "text": [
      "\u001b[1mDataset imdb_reviews downloaded and prepared to C:\\Users\\DELL\\tensorflow_datasets\\imdb_reviews\\plain_text\\1.0.0. Subsequent calls will reuse this data.\u001b[0m\n"
     ]
    }
   ],
   "source": [
    "train_data = tfds.as_numpy(tfds.load('imdb_reviews',split='train'))"
   ]
  },
  {
   "cell_type": "code",
   "execution_count": 16,
   "id": "79901abc",
   "metadata": {},
   "outputs": [
    {
     "data": {
      "text/plain": [
       "<tensorflow_datasets.core.dataset_utils._IterableDataset at 0x1b0fba0cca0>"
      ]
     },
     "execution_count": 16,
     "metadata": {},
     "output_type": "execute_result"
    }
   ],
   "source": [
    "train_data"
   ]
  },
  {
   "cell_type": "code",
   "execution_count": null,
   "id": "a4e6e249",
   "metadata": {},
   "outputs": [],
   "source": []
  },
  {
   "cell_type": "code",
   "execution_count": 25,
   "id": "ccaa4c75",
   "metadata": {},
   "outputs": [],
   "source": [
    "imdb_sentences =[]\n",
    "imdb_labels=[]\n",
    "\n",
    "for item in train_data:\n",
    "    imdb_sentences.append(item['text'])\n",
    "    imdb_labels.append(item['label'])\n",
    "    "
   ]
  },
  {
   "cell_type": "code",
   "execution_count": 20,
   "id": "983def68",
   "metadata": {},
   "outputs": [
    {
     "data": {
      "text/plain": [
       "25000"
      ]
     },
     "execution_count": 20,
     "metadata": {},
     "output_type": "execute_result"
    }
   ],
   "source": [
    "len(imdb_sentences)"
   ]
  },
  {
   "cell_type": "code",
   "execution_count": 28,
   "id": "d4949ba2",
   "metadata": {},
   "outputs": [],
   "source": [
    "training_sentences=imdb_sentences[:20000]\n",
    "test_sentences=imdb_sentences[20000:]\n",
    "\n",
    "\n",
    "training_labels =imdb_labels[:20000]\n",
    "test_labels =imdb_labels[20000:]"
   ]
  },
  {
   "cell_type": "code",
   "execution_count": null,
   "id": "d91ef3c0",
   "metadata": {},
   "outputs": [],
   "source": []
  },
  {
   "cell_type": "markdown",
   "id": "7d5b05d3",
   "metadata": {},
   "source": [
    "### tokenisation: de phrase en liste de mots"
   ]
  },
  {
   "cell_type": "code",
   "execution_count": 31,
   "id": "2d6b698a",
   "metadata": {},
   "outputs": [],
   "source": [
    "from tensorflow.keras.preprocessing.text import Tokenizer"
   ]
  },
  {
   "cell_type": "code",
   "execution_count": 61,
   "id": "9455f6e9",
   "metadata": {},
   "outputs": [],
   "source": [
    "tokenizer =Tokenizer(num_words=100,oov_token= \"<OVV>\")"
   ]
  },
  {
   "cell_type": "code",
   "execution_count": 62,
   "id": "b8da1185",
   "metadata": {},
   "outputs": [],
   "source": [
    "phrases =['je suis au marche','je suis en travail'],['Je mange du bassi dans la chambre de Issa']"
   ]
  },
  {
   "cell_type": "code",
   "execution_count": 63,
   "id": "63a73187",
   "metadata": {},
   "outputs": [],
   "source": [
    "tokenizer.fit_on_texts(phrases)"
   ]
  },
  {
   "cell_type": "code",
   "execution_count": 59,
   "id": "cb3061e7",
   "metadata": {},
   "outputs": [
    {
     "data": {
      "text/plain": [
       "{'<OVV>': 1,\n",
       " 'je': 2,\n",
       " 'suis': 3,\n",
       " 'au': 4,\n",
       " 'marche': 5,\n",
       " 'en': 6,\n",
       " 'travail': 7,\n",
       " 'je suis au marche': 8,\n",
       " 'je suis en travail': 9,\n",
       " 'je mange du bassi dans la chambre de issa': 10}"
      ]
     },
     "execution_count": 59,
     "metadata": {},
     "output_type": "execute_result"
    }
   ],
   "source": [
    "tokenizer.word_index"
   ]
  },
  {
   "cell_type": "code",
   "execution_count": 48,
   "id": "41493599",
   "metadata": {},
   "outputs": [
    {
     "data": {
      "text/plain": [
       "{1: '<OVV>', 2: 'je', 3: 'suis', 4: 'au', 5: 'marche', 6: 'en', 7: 'travail'}"
      ]
     },
     "execution_count": 48,
     "metadata": {},
     "output_type": "execute_result"
    }
   ],
   "source": [
    "tokenizer.index_word"
   ]
  },
  {
   "cell_type": "code",
   "execution_count": 37,
   "id": "bc01ff87",
   "metadata": {},
   "outputs": [],
   "source": [
    "### Numerisation  des textes"
   ]
  },
  {
   "cell_type": "code",
   "execution_count": 52,
   "id": "dcb426e8",
   "metadata": {},
   "outputs": [],
   "source": [
    "test =['je vends au marche ']"
   ]
  },
  {
   "cell_type": "code",
   "execution_count": 64,
   "id": "a86e0b15",
   "metadata": {},
   "outputs": [],
   "source": [
    "squ = tokenizer.texts_to_sequences(phrases)"
   ]
  },
  {
   "cell_type": "code",
   "execution_count": null,
   "id": "cfdc3b59",
   "metadata": {},
   "outputs": [],
   "source": []
  },
  {
   "cell_type": "code",
   "execution_count": 54,
   "id": "b8aacacf",
   "metadata": {},
   "outputs": [],
   "source": [
    "### Padding"
   ]
  },
  {
   "cell_type": "code",
   "execution_count": 55,
   "id": "4ea002c2",
   "metadata": {},
   "outputs": [],
   "source": [
    "from tensorflow.keras.preprocessing.sequence import pad_sequences"
   ]
  },
  {
   "cell_type": "code",
   "execution_count": null,
   "id": "babf4ada",
   "metadata": {},
   "outputs": [],
   "source": []
  }
 ],
 "metadata": {
  "kernelspec": {
   "display_name": "Python 3 (ipykernel)",
   "language": "python",
   "name": "python3"
  },
  "language_info": {
   "codemirror_mode": {
    "name": "ipython",
    "version": 3
   },
   "file_extension": ".py",
   "mimetype": "text/x-python",
   "name": "python",
   "nbconvert_exporter": "python",
   "pygments_lexer": "ipython3",
   "version": "3.10.9"
  }
 },
 "nbformat": 4,
 "nbformat_minor": 5
}
